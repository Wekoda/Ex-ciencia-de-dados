{
  "nbformat": 4,
  "nbformat_minor": 0,
  "metadata": {
    "colab": {
      "provenance": []
    },
    "kernelspec": {
      "name": "python3",
      "display_name": "Python 3"
    },
    "language_info": {
      "name": "python"
    }
  },
  "cells": [
    {
      "cell_type": "markdown",
      "source": [
        "# **MÓDULO 13**\n",
        "# Projeto - Fundamentos da Descoberta de Dados"
      ],
      "metadata": {
        "id": "VOTu7U3Mvxzq"
      }
    },
    {
      "cell_type": "markdown",
      "source": [
        "Nesse projeto trabalharemos com a base de dados de produtos de um supermercado do Chile.\n",
        "A ideia é que vocês apliquem os conceitos estatísticos vistos no último módulo, mais os conceitos de visualizações de dados através de gráficos e finalizem publicando no seu github!"
      ],
      "metadata": {
        "id": "-HYgkdAywLd0"
      }
    },
    {
      "cell_type": "code",
      "source": [
        "import pandas as pd\n",
        "import matplotlib.pyplot as plt\n",
        "import plotly.express as px\n",
        "from google.colab import files"
      ],
      "metadata": {
        "id": "OTdTnbzUwE2X"
      },
      "execution_count": 28,
      "outputs": []
    },
    {
      "cell_type": "markdown",
      "source": [
        "Faça a leitura dos dados do arquivo CSV:\n",
        "\n",
        "\n",
        "Altere o código abaixo de acordo com seu diretório."
      ],
      "metadata": {
        "id": "ky1Dk_KWywEa"
      }
    },
    {
      "cell_type": "code",
      "source": [
        "df = pd.read_csv(\"/MODULO7_PROJETOFINAL_BASE_SUPERMERCADO - MODULO7_PROJETOFINAL_BASE_SUPERMERCADO.csv.csv\")\n",
        "df.head(10)"
      ],
      "metadata": {
        "colab": {
          "base_uri": "https://localhost:8080/",
          "height": 606
        },
        "id": "bRBFyVB5wlny",
        "outputId": "f2f6eb06-82d9-45d6-b3b8-9dd663f1cdc6"
      },
      "execution_count": 55,
      "outputs": [
        {
          "output_type": "execute_result",
          "data": {
            "text/plain": [
              "                                              title       Marca  Preco_Normal  \\\n",
              "0              Pack 12 un, Leche extra proteína 1 L  Loncoleche         19788   \n",
              "1   Pack 12 un, Leche chocolate receta original 1 L     Soprole         18228   \n",
              "2    Pack 12 un, Leche semidescremada chocolate 1 L     Soprole         18228   \n",
              "3     Pack 12 un, Leche semidescremada frutilla 1 L     Soprole         18228   \n",
              "4       Pack 12 un, Leche sin lactosa chocolate 1 L  Loncoleche         17988   \n",
              "5        Pack 12 un, Leche sin lactosa frutilla 1 L  Loncoleche         17988   \n",
              "6  Pack 12 un, Leche saborizada light chocolate 1 L  Loncoleche         17988   \n",
              "7         Pack 12 un, Leche saborizada frutilla 1 L       Colun         17388   \n",
              "8         Pack 12 un, Leche saborizada vainilla 1 L       Colun         17388   \n",
              "9           Pack 12 un, Leche saborizada manjar 1 L       Colun         17388   \n",
              "\n",
              "   Preco_Desconto  Preco_Anterior  Desconto Categoria  \n",
              "0               0               0         0   lacteos  \n",
              "1               0               0         0   lacteos  \n",
              "2               0               0         0   lacteos  \n",
              "3               0               0         0   lacteos  \n",
              "4               0               0         0   lacteos  \n",
              "5               0               0         0   lacteos  \n",
              "6               0               0         0   lacteos  \n",
              "7               0               0         0   lacteos  \n",
              "8               0               0         0   lacteos  \n",
              "9               0               0         0   lacteos  "
            ],
            "text/html": [
              "\n",
              "  <div id=\"df-e6e71d57-75ec-4b76-9c5a-9f877a803091\" class=\"colab-df-container\">\n",
              "    <div>\n",
              "<style scoped>\n",
              "    .dataframe tbody tr th:only-of-type {\n",
              "        vertical-align: middle;\n",
              "    }\n",
              "\n",
              "    .dataframe tbody tr th {\n",
              "        vertical-align: top;\n",
              "    }\n",
              "\n",
              "    .dataframe thead th {\n",
              "        text-align: right;\n",
              "    }\n",
              "</style>\n",
              "<table border=\"1\" class=\"dataframe\">\n",
              "  <thead>\n",
              "    <tr style=\"text-align: right;\">\n",
              "      <th></th>\n",
              "      <th>title</th>\n",
              "      <th>Marca</th>\n",
              "      <th>Preco_Normal</th>\n",
              "      <th>Preco_Desconto</th>\n",
              "      <th>Preco_Anterior</th>\n",
              "      <th>Desconto</th>\n",
              "      <th>Categoria</th>\n",
              "    </tr>\n",
              "  </thead>\n",
              "  <tbody>\n",
              "    <tr>\n",
              "      <th>0</th>\n",
              "      <td>Pack 12 un, Leche extra proteína 1 L</td>\n",
              "      <td>Loncoleche</td>\n",
              "      <td>19788</td>\n",
              "      <td>0</td>\n",
              "      <td>0</td>\n",
              "      <td>0</td>\n",
              "      <td>lacteos</td>\n",
              "    </tr>\n",
              "    <tr>\n",
              "      <th>1</th>\n",
              "      <td>Pack 12 un, Leche chocolate receta original 1 L</td>\n",
              "      <td>Soprole</td>\n",
              "      <td>18228</td>\n",
              "      <td>0</td>\n",
              "      <td>0</td>\n",
              "      <td>0</td>\n",
              "      <td>lacteos</td>\n",
              "    </tr>\n",
              "    <tr>\n",
              "      <th>2</th>\n",
              "      <td>Pack 12 un, Leche semidescremada chocolate 1 L</td>\n",
              "      <td>Soprole</td>\n",
              "      <td>18228</td>\n",
              "      <td>0</td>\n",
              "      <td>0</td>\n",
              "      <td>0</td>\n",
              "      <td>lacteos</td>\n",
              "    </tr>\n",
              "    <tr>\n",
              "      <th>3</th>\n",
              "      <td>Pack 12 un, Leche semidescremada frutilla 1 L</td>\n",
              "      <td>Soprole</td>\n",
              "      <td>18228</td>\n",
              "      <td>0</td>\n",
              "      <td>0</td>\n",
              "      <td>0</td>\n",
              "      <td>lacteos</td>\n",
              "    </tr>\n",
              "    <tr>\n",
              "      <th>4</th>\n",
              "      <td>Pack 12 un, Leche sin lactosa chocolate 1 L</td>\n",
              "      <td>Loncoleche</td>\n",
              "      <td>17988</td>\n",
              "      <td>0</td>\n",
              "      <td>0</td>\n",
              "      <td>0</td>\n",
              "      <td>lacteos</td>\n",
              "    </tr>\n",
              "    <tr>\n",
              "      <th>5</th>\n",
              "      <td>Pack 12 un, Leche sin lactosa frutilla 1 L</td>\n",
              "      <td>Loncoleche</td>\n",
              "      <td>17988</td>\n",
              "      <td>0</td>\n",
              "      <td>0</td>\n",
              "      <td>0</td>\n",
              "      <td>lacteos</td>\n",
              "    </tr>\n",
              "    <tr>\n",
              "      <th>6</th>\n",
              "      <td>Pack 12 un, Leche saborizada light chocolate 1 L</td>\n",
              "      <td>Loncoleche</td>\n",
              "      <td>17988</td>\n",
              "      <td>0</td>\n",
              "      <td>0</td>\n",
              "      <td>0</td>\n",
              "      <td>lacteos</td>\n",
              "    </tr>\n",
              "    <tr>\n",
              "      <th>7</th>\n",
              "      <td>Pack 12 un, Leche saborizada frutilla 1 L</td>\n",
              "      <td>Colun</td>\n",
              "      <td>17388</td>\n",
              "      <td>0</td>\n",
              "      <td>0</td>\n",
              "      <td>0</td>\n",
              "      <td>lacteos</td>\n",
              "    </tr>\n",
              "    <tr>\n",
              "      <th>8</th>\n",
              "      <td>Pack 12 un, Leche saborizada vainilla 1 L</td>\n",
              "      <td>Colun</td>\n",
              "      <td>17388</td>\n",
              "      <td>0</td>\n",
              "      <td>0</td>\n",
              "      <td>0</td>\n",
              "      <td>lacteos</td>\n",
              "    </tr>\n",
              "    <tr>\n",
              "      <th>9</th>\n",
              "      <td>Pack 12 un, Leche saborizada manjar 1 L</td>\n",
              "      <td>Colun</td>\n",
              "      <td>17388</td>\n",
              "      <td>0</td>\n",
              "      <td>0</td>\n",
              "      <td>0</td>\n",
              "      <td>lacteos</td>\n",
              "    </tr>\n",
              "  </tbody>\n",
              "</table>\n",
              "</div>\n",
              "    <div class=\"colab-df-buttons\">\n",
              "\n",
              "  <div class=\"colab-df-container\">\n",
              "    <button class=\"colab-df-convert\" onclick=\"convertToInteractive('df-e6e71d57-75ec-4b76-9c5a-9f877a803091')\"\n",
              "            title=\"Convert this dataframe to an interactive table.\"\n",
              "            style=\"display:none;\">\n",
              "\n",
              "  <svg xmlns=\"http://www.w3.org/2000/svg\" height=\"24px\" viewBox=\"0 -960 960 960\">\n",
              "    <path d=\"M120-120v-720h720v720H120Zm60-500h600v-160H180v160Zm220 220h160v-160H400v160Zm0 220h160v-160H400v160ZM180-400h160v-160H180v160Zm440 0h160v-160H620v160ZM180-180h160v-160H180v160Zm440 0h160v-160H620v160Z\"/>\n",
              "  </svg>\n",
              "    </button>\n",
              "\n",
              "  <style>\n",
              "    .colab-df-container {\n",
              "      display:flex;\n",
              "      gap: 12px;\n",
              "    }\n",
              "\n",
              "    .colab-df-convert {\n",
              "      background-color: #E8F0FE;\n",
              "      border: none;\n",
              "      border-radius: 50%;\n",
              "      cursor: pointer;\n",
              "      display: none;\n",
              "      fill: #1967D2;\n",
              "      height: 32px;\n",
              "      padding: 0 0 0 0;\n",
              "      width: 32px;\n",
              "    }\n",
              "\n",
              "    .colab-df-convert:hover {\n",
              "      background-color: #E2EBFA;\n",
              "      box-shadow: 0px 1px 2px rgba(60, 64, 67, 0.3), 0px 1px 3px 1px rgba(60, 64, 67, 0.15);\n",
              "      fill: #174EA6;\n",
              "    }\n",
              "\n",
              "    .colab-df-buttons div {\n",
              "      margin-bottom: 4px;\n",
              "    }\n",
              "\n",
              "    [theme=dark] .colab-df-convert {\n",
              "      background-color: #3B4455;\n",
              "      fill: #D2E3FC;\n",
              "    }\n",
              "\n",
              "    [theme=dark] .colab-df-convert:hover {\n",
              "      background-color: #434B5C;\n",
              "      box-shadow: 0px 1px 3px 1px rgba(0, 0, 0, 0.15);\n",
              "      filter: drop-shadow(0px 1px 2px rgba(0, 0, 0, 0.3));\n",
              "      fill: #FFFFFF;\n",
              "    }\n",
              "  </style>\n",
              "\n",
              "    <script>\n",
              "      const buttonEl =\n",
              "        document.querySelector('#df-e6e71d57-75ec-4b76-9c5a-9f877a803091 button.colab-df-convert');\n",
              "      buttonEl.style.display =\n",
              "        google.colab.kernel.accessAllowed ? 'block' : 'none';\n",
              "\n",
              "      async function convertToInteractive(key) {\n",
              "        const element = document.querySelector('#df-e6e71d57-75ec-4b76-9c5a-9f877a803091');\n",
              "        const dataTable =\n",
              "          await google.colab.kernel.invokeFunction('convertToInteractive',\n",
              "                                                    [key], {});\n",
              "        if (!dataTable) return;\n",
              "\n",
              "        const docLinkHtml = 'Like what you see? Visit the ' +\n",
              "          '<a target=\"_blank\" href=https://colab.research.google.com/notebooks/data_table.ipynb>data table notebook</a>'\n",
              "          + ' to learn more about interactive tables.';\n",
              "        element.innerHTML = '';\n",
              "        dataTable['output_type'] = 'display_data';\n",
              "        await google.colab.output.renderOutput(dataTable, element);\n",
              "        const docLink = document.createElement('div');\n",
              "        docLink.innerHTML = docLinkHtml;\n",
              "        element.appendChild(docLink);\n",
              "      }\n",
              "    </script>\n",
              "  </div>\n",
              "\n",
              "\n",
              "    <div id=\"df-687090d5-fae0-43c7-a8da-d8275cc375b5\">\n",
              "      <button class=\"colab-df-quickchart\" onclick=\"quickchart('df-687090d5-fae0-43c7-a8da-d8275cc375b5')\"\n",
              "                title=\"Suggest charts\"\n",
              "                style=\"display:none;\">\n",
              "\n",
              "<svg xmlns=\"http://www.w3.org/2000/svg\" height=\"24px\"viewBox=\"0 0 24 24\"\n",
              "     width=\"24px\">\n",
              "    <g>\n",
              "        <path d=\"M19 3H5c-1.1 0-2 .9-2 2v14c0 1.1.9 2 2 2h14c1.1 0 2-.9 2-2V5c0-1.1-.9-2-2-2zM9 17H7v-7h2v7zm4 0h-2V7h2v10zm4 0h-2v-4h2v4z\"/>\n",
              "    </g>\n",
              "</svg>\n",
              "      </button>\n",
              "\n",
              "<style>\n",
              "  .colab-df-quickchart {\n",
              "      --bg-color: #E8F0FE;\n",
              "      --fill-color: #1967D2;\n",
              "      --hover-bg-color: #E2EBFA;\n",
              "      --hover-fill-color: #174EA6;\n",
              "      --disabled-fill-color: #AAA;\n",
              "      --disabled-bg-color: #DDD;\n",
              "  }\n",
              "\n",
              "  [theme=dark] .colab-df-quickchart {\n",
              "      --bg-color: #3B4455;\n",
              "      --fill-color: #D2E3FC;\n",
              "      --hover-bg-color: #434B5C;\n",
              "      --hover-fill-color: #FFFFFF;\n",
              "      --disabled-bg-color: #3B4455;\n",
              "      --disabled-fill-color: #666;\n",
              "  }\n",
              "\n",
              "  .colab-df-quickchart {\n",
              "    background-color: var(--bg-color);\n",
              "    border: none;\n",
              "    border-radius: 50%;\n",
              "    cursor: pointer;\n",
              "    display: none;\n",
              "    fill: var(--fill-color);\n",
              "    height: 32px;\n",
              "    padding: 0;\n",
              "    width: 32px;\n",
              "  }\n",
              "\n",
              "  .colab-df-quickchart:hover {\n",
              "    background-color: var(--hover-bg-color);\n",
              "    box-shadow: 0 1px 2px rgba(60, 64, 67, 0.3), 0 1px 3px 1px rgba(60, 64, 67, 0.15);\n",
              "    fill: var(--button-hover-fill-color);\n",
              "  }\n",
              "\n",
              "  .colab-df-quickchart-complete:disabled,\n",
              "  .colab-df-quickchart-complete:disabled:hover {\n",
              "    background-color: var(--disabled-bg-color);\n",
              "    fill: var(--disabled-fill-color);\n",
              "    box-shadow: none;\n",
              "  }\n",
              "\n",
              "  .colab-df-spinner {\n",
              "    border: 2px solid var(--fill-color);\n",
              "    border-color: transparent;\n",
              "    border-bottom-color: var(--fill-color);\n",
              "    animation:\n",
              "      spin 1s steps(1) infinite;\n",
              "  }\n",
              "\n",
              "  @keyframes spin {\n",
              "    0% {\n",
              "      border-color: transparent;\n",
              "      border-bottom-color: var(--fill-color);\n",
              "      border-left-color: var(--fill-color);\n",
              "    }\n",
              "    20% {\n",
              "      border-color: transparent;\n",
              "      border-left-color: var(--fill-color);\n",
              "      border-top-color: var(--fill-color);\n",
              "    }\n",
              "    30% {\n",
              "      border-color: transparent;\n",
              "      border-left-color: var(--fill-color);\n",
              "      border-top-color: var(--fill-color);\n",
              "      border-right-color: var(--fill-color);\n",
              "    }\n",
              "    40% {\n",
              "      border-color: transparent;\n",
              "      border-right-color: var(--fill-color);\n",
              "      border-top-color: var(--fill-color);\n",
              "    }\n",
              "    60% {\n",
              "      border-color: transparent;\n",
              "      border-right-color: var(--fill-color);\n",
              "    }\n",
              "    80% {\n",
              "      border-color: transparent;\n",
              "      border-right-color: var(--fill-color);\n",
              "      border-bottom-color: var(--fill-color);\n",
              "    }\n",
              "    90% {\n",
              "      border-color: transparent;\n",
              "      border-bottom-color: var(--fill-color);\n",
              "    }\n",
              "  }\n",
              "</style>\n",
              "\n",
              "      <script>\n",
              "        async function quickchart(key) {\n",
              "          const quickchartButtonEl =\n",
              "            document.querySelector('#' + key + ' button');\n",
              "          quickchartButtonEl.disabled = true;  // To prevent multiple clicks.\n",
              "          quickchartButtonEl.classList.add('colab-df-spinner');\n",
              "          try {\n",
              "            const charts = await google.colab.kernel.invokeFunction(\n",
              "                'suggestCharts', [key], {});\n",
              "          } catch (error) {\n",
              "            console.error('Error during call to suggestCharts:', error);\n",
              "          }\n",
              "          quickchartButtonEl.classList.remove('colab-df-spinner');\n",
              "          quickchartButtonEl.classList.add('colab-df-quickchart-complete');\n",
              "        }\n",
              "        (() => {\n",
              "          let quickchartButtonEl =\n",
              "            document.querySelector('#df-687090d5-fae0-43c7-a8da-d8275cc375b5 button');\n",
              "          quickchartButtonEl.style.display =\n",
              "            google.colab.kernel.accessAllowed ? 'block' : 'none';\n",
              "        })();\n",
              "      </script>\n",
              "    </div>\n",
              "\n",
              "    </div>\n",
              "  </div>\n"
            ],
            "application/vnd.google.colaboratory.intrinsic+json": {
              "type": "dataframe",
              "variable_name": "df",
              "summary": "{\n  \"name\": \"df\",\n  \"rows\": 1107,\n  \"fields\": [\n    {\n      \"column\": \"title\",\n      \"properties\": {\n        \"dtype\": \"string\",\n        \"num_unique_values\": 1065,\n        \"samples\": [\n          \"Pack 12 un, Leche entera 1 L\",\n          \"Yoghurt batido Colun damasco 1 kg\",\n          \"Leche Loncoleche cappucino prote\\u00edna 1 L\"\n        ],\n        \"semantic_type\": \"\",\n        \"description\": \"\"\n      }\n    },\n    {\n      \"column\": \"Marca\",\n      \"properties\": {\n        \"dtype\": \"category\",\n        \"num_unique_values\": 156,\n        \"samples\": [\n          \"Calan\",\n          \"Chiquit\\u00edn\",\n          \"Protex\"\n        ],\n        \"semantic_type\": \"\",\n        \"description\": \"\"\n      }\n    },\n    {\n      \"column\": \"Preco_Normal\",\n      \"properties\": {\n        \"dtype\": \"number\",\n        \"std\": 2961,\n        \"min\": 0,\n        \"max\": 19788,\n        \"num_unique_values\": 361,\n        \"samples\": [\n          2499,\n          6790,\n          10599\n        ],\n        \"semantic_type\": \"\",\n        \"description\": \"\"\n      }\n    },\n    {\n      \"column\": \"Preco_Desconto\",\n      \"properties\": {\n        \"dtype\": \"number\",\n        \"std\": 1339,\n        \"min\": 0,\n        \"max\": 14550,\n        \"num_unique_values\": 101,\n        \"samples\": [\n          3732,\n          4790,\n          1250\n        ],\n        \"semantic_type\": \"\",\n        \"description\": \"\"\n      }\n    },\n    {\n      \"column\": \"Preco_Anterior\",\n      \"properties\": {\n        \"dtype\": \"number\",\n        \"std\": 1239,\n        \"min\": 0,\n        \"max\": 18899,\n        \"num_unique_values\": 64,\n        \"samples\": [\n          5549,\n          5499,\n          0\n        ],\n        \"semantic_type\": \"\",\n        \"description\": \"\"\n      }\n    },\n    {\n      \"column\": \"Desconto\",\n      \"properties\": {\n        \"dtype\": \"number\",\n        \"std\": 241,\n        \"min\": 0,\n        \"max\": 4349,\n        \"num_unique_values\": 68,\n        \"samples\": [\n          693,\n          359,\n          140\n        ],\n        \"semantic_type\": \"\",\n        \"description\": \"\"\n      }\n    },\n    {\n      \"column\": \"Categoria\",\n      \"properties\": {\n        \"dtype\": \"category\",\n        \"num_unique_values\": 7,\n        \"samples\": [\n          \"lacteos\",\n          \"belleza-y-cuidado-personal\",\n          \"verduras\"\n        ],\n        \"semantic_type\": \"\",\n        \"description\": \"\"\n      }\n    }\n  ]\n}"
            }
          },
          "metadata": {},
          "execution_count": 55
        }
      ]
    },
    {
      "cell_type": "markdown",
      "source": [
        "Os campos do nosso dataframe são:\n",
        "\n",
        "**Title:** Nome do produto.\n",
        "\n",
        "\n",
        "**Marca:** A marca do produto.\n",
        "\n",
        "\n",
        "**Preco_Normal:** O preço em que o produto costuma ser vendido quando não há desconto.\n",
        "\n",
        "\n",
        "**Preco_Desconto:** O preço vendido após o desconto ser aplicado.\n",
        "\n",
        "\n",
        "**Preco_Anterior:** Preço em que era comercializado o produto antes do desconto aplicado.\n",
        "\n",
        "\n",
        "**Desconto:** Total de desconto aplicado.\n",
        "\n",
        "\n",
        "\n",
        "\n",
        "\n",
        "\n",
        "As colunas que aparecem com valores 0 são para os produtos onde não tivemos descontos aplicados.\n",
        "\n",
        "\n",
        "As categorias estão em espanhol!"
      ],
      "metadata": {
        "id": "YJgKJ7Nxwtw2"
      }
    },
    {
      "cell_type": "markdown",
      "source": [
        "# 1 - Traga a média e a mediana dos preços - coluna Preco_Normal - por categoria de produto.\n",
        "# Identifique as categorias que parecem ter um valor de média abaixo ou acima da mediana."
      ],
      "metadata": {
        "id": "4u6WBeyyy6ri"
      }
    },
    {
      "cell_type": "code",
      "source": [
        "#Seu código aqui para a média\n",
        "media = df.groupby('Categoria')['Preco_Normal'].mean()\n",
        "print(media)"
      ],
      "metadata": {
        "id": "E7B7FolOzVcJ",
        "colab": {
          "base_uri": "https://localhost:8080/"
        },
        "outputId": "6572d397-ed50-4348-965e-63baf06a8871"
      },
      "execution_count": 61,
      "outputs": [
        {
          "output_type": "stream",
          "name": "stdout",
          "text": [
            "Categoria\n",
            "belleza-y-cuidado-personal    1783.556485\n",
            "comidas-preparadas            3095.043478\n",
            "congelados                    2108.042553\n",
            "frutas                        1724.473684\n",
            "instantaneos-y-sopas           765.491228\n",
            "lacteos                       2385.219239\n",
            "verduras                      1343.296875\n",
            "Name: Preco_Normal, dtype: float64\n"
          ]
        }
      ]
    },
    {
      "cell_type": "code",
      "source": [
        "#Seu código aqui para a mediana\n",
        "mediana = df.groupby('Categoria')['Preco_Normal'].median()\n",
        "print(mediana)"
      ],
      "metadata": {
        "id": "Rwf4V3hnzZwh",
        "colab": {
          "base_uri": "https://localhost:8080/"
        },
        "outputId": "1e8d3007-63be-4f06-8a26-46ea264a4098"
      },
      "execution_count": 62,
      "outputs": [
        {
          "output_type": "stream",
          "name": "stdout",
          "text": [
            "Categoria\n",
            "belleza-y-cuidado-personal    1569.0\n",
            "comidas-preparadas            3290.0\n",
            "congelados                    1519.0\n",
            "frutas                        1195.0\n",
            "instantaneos-y-sopas           439.0\n",
            "lacteos                        989.0\n",
            "verduras                      1180.0\n",
            "Name: Preco_Normal, dtype: float64\n"
          ]
        }
      ]
    },
    {
      "cell_type": "markdown",
      "source": [
        "Digite aqui as categorias:\n",
        "Categorias abaixo da mediana encontrada: instantaneos-y-sopas, lacteos\n",
        "Categoria muito acima (outlier): comidas-preparadas"
      ],
      "metadata": {
        "id": "nKBFOh-mzyWX"
      }
    },
    {
      "cell_type": "markdown",
      "source": [
        "# 2 - Traga o desvio padrão por categoria de produto.\n",
        "# Qual o comportamento da média e mediana nas categorias com maior desvio?"
      ],
      "metadata": {
        "id": "jdHZurzDzca0"
      }
    },
    {
      "cell_type": "code",
      "source": [
        "#Seu código aqui\n",
        "desvio = df.groupby('Categoria')['Preco_Normal'].std()\n",
        "print(desvio)"
      ],
      "metadata": {
        "id": "xEXT1gtoz135",
        "colab": {
          "base_uri": "https://localhost:8080/"
        },
        "outputId": "b16ffad4-a816-4583-e405-8708c66fe747"
      },
      "execution_count": 63,
      "outputs": [
        {
          "output_type": "stream",
          "name": "stdout",
          "text": [
            "Categoria\n",
            "belleza-y-cuidado-personal    2210.041719\n",
            "comidas-preparadas            2019.911428\n",
            "congelados                    2111.539896\n",
            "frutas                        1639.151114\n",
            "instantaneos-y-sopas          1170.232869\n",
            "lacteos                       3925.816164\n",
            "verduras                      1012.699625\n",
            "Name: Preco_Normal, dtype: float64\n"
          ]
        }
      ]
    },
    {
      "cell_type": "markdown",
      "source": [
        "Digite nesse campo o comportamento que você identificou.\n",
        "\n",
        "r: O desvio padrão da categoria dos 'lacteos' é o qual mais chama atenção, mostrando que o desvio está muito acima em compensação as outras categorias exploradas, todas as outras ainda seguem uma média entre elas\n"
      ],
      "metadata": {
        "id": "HzsLO4nOz3yJ"
      }
    },
    {
      "cell_type": "markdown",
      "source": [
        "# 3 - Plot um boxplot da distribuição do Preco_Normal para a categoria que você identificou que tem o maior desvio padrão. Como é a distribuição desses dados segundo o boxplot? Você identifica muitos outliers?"
      ],
      "metadata": {
        "id": "4aW51rCHBr2w"
      }
    },
    {
      "cell_type": "markdown",
      "source": [
        "Dica: Para trazer apenas os dados da categoria que você deseja você pode usar o df.loc[df['Categoria'] == 'CATEGORIA ESCOLHIDA'"
      ],
      "metadata": {
        "id": "kwPKkUZnEUSb"
      }
    },
    {
      "cell_type": "code",
      "source": [
        "#Seu código aqui\n",
        "fig = px.box(df.loc[df['Categoria'] == 'lacteos'], x='Preco_Normal')\n",
        "fig.show()"
      ],
      "metadata": {
        "id": "_02thblTCKEF",
        "colab": {
          "base_uri": "https://localhost:8080/",
          "height": 542
        },
        "outputId": "060d06b0-ac97-4ec5-ec3a-f4986873bb29"
      },
      "execution_count": 64,
      "outputs": [
        {
          "output_type": "display_data",
          "data": {
            "text/html": [
              "<html>\n",
              "<head><meta charset=\"utf-8\" /></head>\n",
              "<body>\n",
              "    <div>            <script src=\"https://cdnjs.cloudflare.com/ajax/libs/mathjax/2.7.5/MathJax.js?config=TeX-AMS-MML_SVG\"></script><script type=\"text/javascript\">if (window.MathJax && window.MathJax.Hub && window.MathJax.Hub.Config) {window.MathJax.Hub.Config({SVG: {font: \"STIX-Web\"}});}</script>                <script type=\"text/javascript\">window.PlotlyConfig = {MathJaxConfig: 'local'};</script>\n",
              "        <script charset=\"utf-8\" src=\"https://cdn.plot.ly/plotly-2.35.2.min.js\"></script>                <div id=\"b6a65d4f-df88-4185-a647-8b24d71c5173\" class=\"plotly-graph-div\" style=\"height:525px; width:100%;\"></div>            <script type=\"text/javascript\">                                    window.PLOTLYENV=window.PLOTLYENV || {};                                    if (document.getElementById(\"b6a65d4f-df88-4185-a647-8b24d71c5173\")) {                    Plotly.newPlot(                        \"b6a65d4f-df88-4185-a647-8b24d71c5173\",                        [{\"alignmentgroup\":\"True\",\"hovertemplate\":\"Preco_Normal=%{x}\\u003cextra\\u003e\\u003c\\u002fextra\\u003e\",\"legendgroup\":\"\",\"marker\":{\"color\":\"#636efa\"},\"name\":\"\",\"notched\":false,\"offsetgroup\":\"\",\"orientation\":\"h\",\"showlegend\":false,\"x\":[19788,18228,18228,18228,17988,17988,17988,17388,17388,17388,17388,17388,17268,17268,16788,16190,14268,14268,14268,13908,13908,12149,11988,11988,11868,11868,11268,11268,11268,10599,10188,10188,10188,8969,8429,7999,7899,7674,7199,6769,6534,6534,6229,5934,5934,5934,5719,5419,5389,5389,5349,5249,5189,4849,4459,4169,4049,4049,3999,3929,3929,3929,3779,3769,3649,3599,3549,3174,3174,3160,3149,3129,3099,3090,3079,3069,3069,3069,2999,2994,2994,2970,2939,2934,2934,2934,2934,2929,2929,2919,2910,2899,2879,2869,2850,2829,2814,2814,2814,2814,2790,2779,2779,2670,2670,2670,2670,2669,2637,2637,2637,2629,2589,2589,2579,2579,2574,2574,2499,2489,2479,2479,2479,2479,2469,2459,2429,2389,2349,2329,2329,2289,2259,2229,2219,2219,2190,2179,2179,2139,2119,2094,2089,2089,2079,2069,2069,2069,2069,2039,2039,2039,1989,1989,1979,1929,1929,1889,1889,1889,1879,1879,1859,1829,1829,1819,1819,1789,1789,1789,1779,1779,1759,1759,1749,1749,1690,1690,1689,1689,1639,1639,1639,1639,1589,1489,1489,1469,1469,1469,1449,1449,1449,1449,1439,1439,1389,1389,1339,1329,1299,1279,1269,1269,1189,1189,1189,1189,1189,1189,1189,1189,1159,1159,1159,1129,1129,1089,1089,1089,1039,999,999,989,989,989,989,939,939,939,939,899,879,879,879,849,849,849,759,669,655,655,619,619,619,619,619,615,609,609,609,605,599,585,585,585,579,579,579,579,579,575,569,559,559,559,555,555,549,549,515,505,505,505,505,505,505,495,495,485,485,485,469,469,469,465,459,459,459,459,455,455,449,445,445,445,445,445,429,429,425,409,405,405,405,405,405,375,355,349,349,335,335,329,315,315,315,315,315,315,315,315,315,309,309,305,305,305,275,275,275,275,275,269,269,269,245,245,245,245,245,245,245,245,245,245,229,229,229,209,209,209,0,0,0,0,0,0,0,0,0,0,0,0,0,0,0,0,0,0,0,0,0,0,0,0,0,0,0,0,0,0,0,0,0,0,0,0,0,0,0,0,0,0,0,0,0,0,0,0,0,0,0,0,0,0,0,0,0,0,0,0,0,0,0,0,0,0,0,0,0,0,0,0,0,0,0,0,0,0,0,0,0,0,0,0,0,0,0,0,0,0,0,0,0,0,0],\"x0\":\" \",\"xaxis\":\"x\",\"y0\":\" \",\"yaxis\":\"y\",\"type\":\"box\"}],                        {\"template\":{\"data\":{\"histogram2dcontour\":[{\"type\":\"histogram2dcontour\",\"colorbar\":{\"outlinewidth\":0,\"ticks\":\"\"},\"colorscale\":[[0.0,\"#0d0887\"],[0.1111111111111111,\"#46039f\"],[0.2222222222222222,\"#7201a8\"],[0.3333333333333333,\"#9c179e\"],[0.4444444444444444,\"#bd3786\"],[0.5555555555555556,\"#d8576b\"],[0.6666666666666666,\"#ed7953\"],[0.7777777777777778,\"#fb9f3a\"],[0.8888888888888888,\"#fdca26\"],[1.0,\"#f0f921\"]]}],\"choropleth\":[{\"type\":\"choropleth\",\"colorbar\":{\"outlinewidth\":0,\"ticks\":\"\"}}],\"histogram2d\":[{\"type\":\"histogram2d\",\"colorbar\":{\"outlinewidth\":0,\"ticks\":\"\"},\"colorscale\":[[0.0,\"#0d0887\"],[0.1111111111111111,\"#46039f\"],[0.2222222222222222,\"#7201a8\"],[0.3333333333333333,\"#9c179e\"],[0.4444444444444444,\"#bd3786\"],[0.5555555555555556,\"#d8576b\"],[0.6666666666666666,\"#ed7953\"],[0.7777777777777778,\"#fb9f3a\"],[0.8888888888888888,\"#fdca26\"],[1.0,\"#f0f921\"]]}],\"heatmap\":[{\"type\":\"heatmap\",\"colorbar\":{\"outlinewidth\":0,\"ticks\":\"\"},\"colorscale\":[[0.0,\"#0d0887\"],[0.1111111111111111,\"#46039f\"],[0.2222222222222222,\"#7201a8\"],[0.3333333333333333,\"#9c179e\"],[0.4444444444444444,\"#bd3786\"],[0.5555555555555556,\"#d8576b\"],[0.6666666666666666,\"#ed7953\"],[0.7777777777777778,\"#fb9f3a\"],[0.8888888888888888,\"#fdca26\"],[1.0,\"#f0f921\"]]}],\"heatmapgl\":[{\"type\":\"heatmapgl\",\"colorbar\":{\"outlinewidth\":0,\"ticks\":\"\"},\"colorscale\":[[0.0,\"#0d0887\"],[0.1111111111111111,\"#46039f\"],[0.2222222222222222,\"#7201a8\"],[0.3333333333333333,\"#9c179e\"],[0.4444444444444444,\"#bd3786\"],[0.5555555555555556,\"#d8576b\"],[0.6666666666666666,\"#ed7953\"],[0.7777777777777778,\"#fb9f3a\"],[0.8888888888888888,\"#fdca26\"],[1.0,\"#f0f921\"]]}],\"contourcarpet\":[{\"type\":\"contourcarpet\",\"colorbar\":{\"outlinewidth\":0,\"ticks\":\"\"}}],\"contour\":[{\"type\":\"contour\",\"colorbar\":{\"outlinewidth\":0,\"ticks\":\"\"},\"colorscale\":[[0.0,\"#0d0887\"],[0.1111111111111111,\"#46039f\"],[0.2222222222222222,\"#7201a8\"],[0.3333333333333333,\"#9c179e\"],[0.4444444444444444,\"#bd3786\"],[0.5555555555555556,\"#d8576b\"],[0.6666666666666666,\"#ed7953\"],[0.7777777777777778,\"#fb9f3a\"],[0.8888888888888888,\"#fdca26\"],[1.0,\"#f0f921\"]]}],\"surface\":[{\"type\":\"surface\",\"colorbar\":{\"outlinewidth\":0,\"ticks\":\"\"},\"colorscale\":[[0.0,\"#0d0887\"],[0.1111111111111111,\"#46039f\"],[0.2222222222222222,\"#7201a8\"],[0.3333333333333333,\"#9c179e\"],[0.4444444444444444,\"#bd3786\"],[0.5555555555555556,\"#d8576b\"],[0.6666666666666666,\"#ed7953\"],[0.7777777777777778,\"#fb9f3a\"],[0.8888888888888888,\"#fdca26\"],[1.0,\"#f0f921\"]]}],\"mesh3d\":[{\"type\":\"mesh3d\",\"colorbar\":{\"outlinewidth\":0,\"ticks\":\"\"}}],\"scatter\":[{\"fillpattern\":{\"fillmode\":\"overlay\",\"size\":10,\"solidity\":0.2},\"type\":\"scatter\"}],\"parcoords\":[{\"type\":\"parcoords\",\"line\":{\"colorbar\":{\"outlinewidth\":0,\"ticks\":\"\"}}}],\"scatterpolargl\":[{\"type\":\"scatterpolargl\",\"marker\":{\"colorbar\":{\"outlinewidth\":0,\"ticks\":\"\"}}}],\"bar\":[{\"error_x\":{\"color\":\"#2a3f5f\"},\"error_y\":{\"color\":\"#2a3f5f\"},\"marker\":{\"line\":{\"color\":\"#E5ECF6\",\"width\":0.5},\"pattern\":{\"fillmode\":\"overlay\",\"size\":10,\"solidity\":0.2}},\"type\":\"bar\"}],\"scattergeo\":[{\"type\":\"scattergeo\",\"marker\":{\"colorbar\":{\"outlinewidth\":0,\"ticks\":\"\"}}}],\"scatterpolar\":[{\"type\":\"scatterpolar\",\"marker\":{\"colorbar\":{\"outlinewidth\":0,\"ticks\":\"\"}}}],\"histogram\":[{\"marker\":{\"pattern\":{\"fillmode\":\"overlay\",\"size\":10,\"solidity\":0.2}},\"type\":\"histogram\"}],\"scattergl\":[{\"type\":\"scattergl\",\"marker\":{\"colorbar\":{\"outlinewidth\":0,\"ticks\":\"\"}}}],\"scatter3d\":[{\"type\":\"scatter3d\",\"line\":{\"colorbar\":{\"outlinewidth\":0,\"ticks\":\"\"}},\"marker\":{\"colorbar\":{\"outlinewidth\":0,\"ticks\":\"\"}}}],\"scattermapbox\":[{\"type\":\"scattermapbox\",\"marker\":{\"colorbar\":{\"outlinewidth\":0,\"ticks\":\"\"}}}],\"scatterternary\":[{\"type\":\"scatterternary\",\"marker\":{\"colorbar\":{\"outlinewidth\":0,\"ticks\":\"\"}}}],\"scattercarpet\":[{\"type\":\"scattercarpet\",\"marker\":{\"colorbar\":{\"outlinewidth\":0,\"ticks\":\"\"}}}],\"carpet\":[{\"aaxis\":{\"endlinecolor\":\"#2a3f5f\",\"gridcolor\":\"white\",\"linecolor\":\"white\",\"minorgridcolor\":\"white\",\"startlinecolor\":\"#2a3f5f\"},\"baxis\":{\"endlinecolor\":\"#2a3f5f\",\"gridcolor\":\"white\",\"linecolor\":\"white\",\"minorgridcolor\":\"white\",\"startlinecolor\":\"#2a3f5f\"},\"type\":\"carpet\"}],\"table\":[{\"cells\":{\"fill\":{\"color\":\"#EBF0F8\"},\"line\":{\"color\":\"white\"}},\"header\":{\"fill\":{\"color\":\"#C8D4E3\"},\"line\":{\"color\":\"white\"}},\"type\":\"table\"}],\"barpolar\":[{\"marker\":{\"line\":{\"color\":\"#E5ECF6\",\"width\":0.5},\"pattern\":{\"fillmode\":\"overlay\",\"size\":10,\"solidity\":0.2}},\"type\":\"barpolar\"}],\"pie\":[{\"automargin\":true,\"type\":\"pie\"}]},\"layout\":{\"autotypenumbers\":\"strict\",\"colorway\":[\"#636efa\",\"#EF553B\",\"#00cc96\",\"#ab63fa\",\"#FFA15A\",\"#19d3f3\",\"#FF6692\",\"#B6E880\",\"#FF97FF\",\"#FECB52\"],\"font\":{\"color\":\"#2a3f5f\"},\"hovermode\":\"closest\",\"hoverlabel\":{\"align\":\"left\"},\"paper_bgcolor\":\"white\",\"plot_bgcolor\":\"#E5ECF6\",\"polar\":{\"bgcolor\":\"#E5ECF6\",\"angularaxis\":{\"gridcolor\":\"white\",\"linecolor\":\"white\",\"ticks\":\"\"},\"radialaxis\":{\"gridcolor\":\"white\",\"linecolor\":\"white\",\"ticks\":\"\"}},\"ternary\":{\"bgcolor\":\"#E5ECF6\",\"aaxis\":{\"gridcolor\":\"white\",\"linecolor\":\"white\",\"ticks\":\"\"},\"baxis\":{\"gridcolor\":\"white\",\"linecolor\":\"white\",\"ticks\":\"\"},\"caxis\":{\"gridcolor\":\"white\",\"linecolor\":\"white\",\"ticks\":\"\"}},\"coloraxis\":{\"colorbar\":{\"outlinewidth\":0,\"ticks\":\"\"}},\"colorscale\":{\"sequential\":[[0.0,\"#0d0887\"],[0.1111111111111111,\"#46039f\"],[0.2222222222222222,\"#7201a8\"],[0.3333333333333333,\"#9c179e\"],[0.4444444444444444,\"#bd3786\"],[0.5555555555555556,\"#d8576b\"],[0.6666666666666666,\"#ed7953\"],[0.7777777777777778,\"#fb9f3a\"],[0.8888888888888888,\"#fdca26\"],[1.0,\"#f0f921\"]],\"sequentialminus\":[[0.0,\"#0d0887\"],[0.1111111111111111,\"#46039f\"],[0.2222222222222222,\"#7201a8\"],[0.3333333333333333,\"#9c179e\"],[0.4444444444444444,\"#bd3786\"],[0.5555555555555556,\"#d8576b\"],[0.6666666666666666,\"#ed7953\"],[0.7777777777777778,\"#fb9f3a\"],[0.8888888888888888,\"#fdca26\"],[1.0,\"#f0f921\"]],\"diverging\":[[0,\"#8e0152\"],[0.1,\"#c51b7d\"],[0.2,\"#de77ae\"],[0.3,\"#f1b6da\"],[0.4,\"#fde0ef\"],[0.5,\"#f7f7f7\"],[0.6,\"#e6f5d0\"],[0.7,\"#b8e186\"],[0.8,\"#7fbc41\"],[0.9,\"#4d9221\"],[1,\"#276419\"]]},\"xaxis\":{\"gridcolor\":\"white\",\"linecolor\":\"white\",\"ticks\":\"\",\"title\":{\"standoff\":15},\"zerolinecolor\":\"white\",\"automargin\":true,\"zerolinewidth\":2},\"yaxis\":{\"gridcolor\":\"white\",\"linecolor\":\"white\",\"ticks\":\"\",\"title\":{\"standoff\":15},\"zerolinecolor\":\"white\",\"automargin\":true,\"zerolinewidth\":2},\"scene\":{\"xaxis\":{\"backgroundcolor\":\"#E5ECF6\",\"gridcolor\":\"white\",\"linecolor\":\"white\",\"showbackground\":true,\"ticks\":\"\",\"zerolinecolor\":\"white\",\"gridwidth\":2},\"yaxis\":{\"backgroundcolor\":\"#E5ECF6\",\"gridcolor\":\"white\",\"linecolor\":\"white\",\"showbackground\":true,\"ticks\":\"\",\"zerolinecolor\":\"white\",\"gridwidth\":2},\"zaxis\":{\"backgroundcolor\":\"#E5ECF6\",\"gridcolor\":\"white\",\"linecolor\":\"white\",\"showbackground\":true,\"ticks\":\"\",\"zerolinecolor\":\"white\",\"gridwidth\":2}},\"shapedefaults\":{\"line\":{\"color\":\"#2a3f5f\"}},\"annotationdefaults\":{\"arrowcolor\":\"#2a3f5f\",\"arrowhead\":0,\"arrowwidth\":1},\"geo\":{\"bgcolor\":\"white\",\"landcolor\":\"#E5ECF6\",\"subunitcolor\":\"white\",\"showland\":true,\"showlakes\":true,\"lakecolor\":\"white\"},\"title\":{\"x\":0.05},\"mapbox\":{\"style\":\"light\"}}},\"xaxis\":{\"anchor\":\"y\",\"domain\":[0.0,1.0],\"title\":{\"text\":\"Preco_Normal\"}},\"yaxis\":{\"anchor\":\"x\",\"domain\":[0.0,1.0]},\"legend\":{\"tracegroupgap\":0},\"margin\":{\"t\":60},\"boxmode\":\"group\"},                        {\"responsive\": true}                    ).then(function(){\n",
              "                            \n",
              "var gd = document.getElementById('b6a65d4f-df88-4185-a647-8b24d71c5173');\n",
              "var x = new MutationObserver(function (mutations, observer) {{\n",
              "        var display = window.getComputedStyle(gd).display;\n",
              "        if (!display || display === 'none') {{\n",
              "            console.log([gd, 'removed!']);\n",
              "            Plotly.purge(gd);\n",
              "            observer.disconnect();\n",
              "        }}\n",
              "}});\n",
              "\n",
              "// Listen for the removal of the full notebook cells\n",
              "var notebookContainer = gd.closest('#notebook-container');\n",
              "if (notebookContainer) {{\n",
              "    x.observe(notebookContainer, {childList: true});\n",
              "}}\n",
              "\n",
              "// Listen for the clearing of the current output cell\n",
              "var outputEl = gd.closest('.output');\n",
              "if (outputEl) {{\n",
              "    x.observe(outputEl, {childList: true});\n",
              "}}\n",
              "\n",
              "                        })                };                            </script>        </div>\n",
              "</body>\n",
              "</html>"
            ]
          },
          "metadata": {}
        }
      ]
    },
    {
      "cell_type": "markdown",
      "source": [
        "# 4 - Plote um gráfico de barras onde temos a média de descontos por categoria."
      ],
      "metadata": {
        "id": "w5xgQBC_0Hg-"
      }
    },
    {
      "cell_type": "code",
      "source": [
        "# Seu código aqui\n",
        "desconto = df.groupby('Categoria')['Desconto'].mean().reset_index()\n",
        "fig = px.bar(desconto, x='Categoria', y='Desconto', orientation='v',\n",
        "             title= 'Desconto por categoria',\n",
        "             labels= {'Desconto': 'Descontos', 'Categoria': 'Categoria'})\n",
        "fig.show()"
      ],
      "metadata": {
        "id": "DBj5zAdI0QfI",
        "colab": {
          "base_uri": "https://localhost:8080/",
          "height": 542
        },
        "outputId": "a05f0b1f-aa7b-4ed9-b256-6ed8d334624f"
      },
      "execution_count": 65,
      "outputs": [
        {
          "output_type": "display_data",
          "data": {
            "text/html": [
              "<html>\n",
              "<head><meta charset=\"utf-8\" /></head>\n",
              "<body>\n",
              "    <div>            <script src=\"https://cdnjs.cloudflare.com/ajax/libs/mathjax/2.7.5/MathJax.js?config=TeX-AMS-MML_SVG\"></script><script type=\"text/javascript\">if (window.MathJax && window.MathJax.Hub && window.MathJax.Hub.Config) {window.MathJax.Hub.Config({SVG: {font: \"STIX-Web\"}});}</script>                <script type=\"text/javascript\">window.PlotlyConfig = {MathJaxConfig: 'local'};</script>\n",
              "        <script charset=\"utf-8\" src=\"https://cdn.plot.ly/plotly-2.35.2.min.js\"></script>                <div id=\"d7da0f7b-be35-42d3-bfe2-ccb2068e0732\" class=\"plotly-graph-div\" style=\"height:525px; width:100%;\"></div>            <script type=\"text/javascript\">                                    window.PLOTLYENV=window.PLOTLYENV || {};                                    if (document.getElementById(\"d7da0f7b-be35-42d3-bfe2-ccb2068e0732\")) {                    Plotly.newPlot(                        \"d7da0f7b-be35-42d3-bfe2-ccb2068e0732\",                        [{\"alignmentgroup\":\"True\",\"hovertemplate\":\"Categoria=%{x}\\u003cbr\\u003eDescontos=%{y}\\u003cextra\\u003e\\u003c\\u002fextra\\u003e\",\"legendgroup\":\"\",\"marker\":{\"color\":\"#636efa\",\"pattern\":{\"shape\":\"\"}},\"name\":\"\",\"offsetgroup\":\"\",\"orientation\":\"v\",\"showlegend\":false,\"textposition\":\"auto\",\"x\":[\"belleza-y-cuidado-personal\",\"comidas-preparadas\",\"congelados\",\"frutas\",\"instantaneos-y-sopas\",\"lacteos\",\"verduras\"],\"xaxis\":\"x\",\"y\":[123.0836820083682,43.47826086956522,154.02978723404254,0.0,0.0,17.411633109619686,0.0],\"yaxis\":\"y\",\"type\":\"bar\"}],                        {\"template\":{\"data\":{\"histogram2dcontour\":[{\"type\":\"histogram2dcontour\",\"colorbar\":{\"outlinewidth\":0,\"ticks\":\"\"},\"colorscale\":[[0.0,\"#0d0887\"],[0.1111111111111111,\"#46039f\"],[0.2222222222222222,\"#7201a8\"],[0.3333333333333333,\"#9c179e\"],[0.4444444444444444,\"#bd3786\"],[0.5555555555555556,\"#d8576b\"],[0.6666666666666666,\"#ed7953\"],[0.7777777777777778,\"#fb9f3a\"],[0.8888888888888888,\"#fdca26\"],[1.0,\"#f0f921\"]]}],\"choropleth\":[{\"type\":\"choropleth\",\"colorbar\":{\"outlinewidth\":0,\"ticks\":\"\"}}],\"histogram2d\":[{\"type\":\"histogram2d\",\"colorbar\":{\"outlinewidth\":0,\"ticks\":\"\"},\"colorscale\":[[0.0,\"#0d0887\"],[0.1111111111111111,\"#46039f\"],[0.2222222222222222,\"#7201a8\"],[0.3333333333333333,\"#9c179e\"],[0.4444444444444444,\"#bd3786\"],[0.5555555555555556,\"#d8576b\"],[0.6666666666666666,\"#ed7953\"],[0.7777777777777778,\"#fb9f3a\"],[0.8888888888888888,\"#fdca26\"],[1.0,\"#f0f921\"]]}],\"heatmap\":[{\"type\":\"heatmap\",\"colorbar\":{\"outlinewidth\":0,\"ticks\":\"\"},\"colorscale\":[[0.0,\"#0d0887\"],[0.1111111111111111,\"#46039f\"],[0.2222222222222222,\"#7201a8\"],[0.3333333333333333,\"#9c179e\"],[0.4444444444444444,\"#bd3786\"],[0.5555555555555556,\"#d8576b\"],[0.6666666666666666,\"#ed7953\"],[0.7777777777777778,\"#fb9f3a\"],[0.8888888888888888,\"#fdca26\"],[1.0,\"#f0f921\"]]}],\"heatmapgl\":[{\"type\":\"heatmapgl\",\"colorbar\":{\"outlinewidth\":0,\"ticks\":\"\"},\"colorscale\":[[0.0,\"#0d0887\"],[0.1111111111111111,\"#46039f\"],[0.2222222222222222,\"#7201a8\"],[0.3333333333333333,\"#9c179e\"],[0.4444444444444444,\"#bd3786\"],[0.5555555555555556,\"#d8576b\"],[0.6666666666666666,\"#ed7953\"],[0.7777777777777778,\"#fb9f3a\"],[0.8888888888888888,\"#fdca26\"],[1.0,\"#f0f921\"]]}],\"contourcarpet\":[{\"type\":\"contourcarpet\",\"colorbar\":{\"outlinewidth\":0,\"ticks\":\"\"}}],\"contour\":[{\"type\":\"contour\",\"colorbar\":{\"outlinewidth\":0,\"ticks\":\"\"},\"colorscale\":[[0.0,\"#0d0887\"],[0.1111111111111111,\"#46039f\"],[0.2222222222222222,\"#7201a8\"],[0.3333333333333333,\"#9c179e\"],[0.4444444444444444,\"#bd3786\"],[0.5555555555555556,\"#d8576b\"],[0.6666666666666666,\"#ed7953\"],[0.7777777777777778,\"#fb9f3a\"],[0.8888888888888888,\"#fdca26\"],[1.0,\"#f0f921\"]]}],\"surface\":[{\"type\":\"surface\",\"colorbar\":{\"outlinewidth\":0,\"ticks\":\"\"},\"colorscale\":[[0.0,\"#0d0887\"],[0.1111111111111111,\"#46039f\"],[0.2222222222222222,\"#7201a8\"],[0.3333333333333333,\"#9c179e\"],[0.4444444444444444,\"#bd3786\"],[0.5555555555555556,\"#d8576b\"],[0.6666666666666666,\"#ed7953\"],[0.7777777777777778,\"#fb9f3a\"],[0.8888888888888888,\"#fdca26\"],[1.0,\"#f0f921\"]]}],\"mesh3d\":[{\"type\":\"mesh3d\",\"colorbar\":{\"outlinewidth\":0,\"ticks\":\"\"}}],\"scatter\":[{\"fillpattern\":{\"fillmode\":\"overlay\",\"size\":10,\"solidity\":0.2},\"type\":\"scatter\"}],\"parcoords\":[{\"type\":\"parcoords\",\"line\":{\"colorbar\":{\"outlinewidth\":0,\"ticks\":\"\"}}}],\"scatterpolargl\":[{\"type\":\"scatterpolargl\",\"marker\":{\"colorbar\":{\"outlinewidth\":0,\"ticks\":\"\"}}}],\"bar\":[{\"error_x\":{\"color\":\"#2a3f5f\"},\"error_y\":{\"color\":\"#2a3f5f\"},\"marker\":{\"line\":{\"color\":\"#E5ECF6\",\"width\":0.5},\"pattern\":{\"fillmode\":\"overlay\",\"size\":10,\"solidity\":0.2}},\"type\":\"bar\"}],\"scattergeo\":[{\"type\":\"scattergeo\",\"marker\":{\"colorbar\":{\"outlinewidth\":0,\"ticks\":\"\"}}}],\"scatterpolar\":[{\"type\":\"scatterpolar\",\"marker\":{\"colorbar\":{\"outlinewidth\":0,\"ticks\":\"\"}}}],\"histogram\":[{\"marker\":{\"pattern\":{\"fillmode\":\"overlay\",\"size\":10,\"solidity\":0.2}},\"type\":\"histogram\"}],\"scattergl\":[{\"type\":\"scattergl\",\"marker\":{\"colorbar\":{\"outlinewidth\":0,\"ticks\":\"\"}}}],\"scatter3d\":[{\"type\":\"scatter3d\",\"line\":{\"colorbar\":{\"outlinewidth\":0,\"ticks\":\"\"}},\"marker\":{\"colorbar\":{\"outlinewidth\":0,\"ticks\":\"\"}}}],\"scattermapbox\":[{\"type\":\"scattermapbox\",\"marker\":{\"colorbar\":{\"outlinewidth\":0,\"ticks\":\"\"}}}],\"scatterternary\":[{\"type\":\"scatterternary\",\"marker\":{\"colorbar\":{\"outlinewidth\":0,\"ticks\":\"\"}}}],\"scattercarpet\":[{\"type\":\"scattercarpet\",\"marker\":{\"colorbar\":{\"outlinewidth\":0,\"ticks\":\"\"}}}],\"carpet\":[{\"aaxis\":{\"endlinecolor\":\"#2a3f5f\",\"gridcolor\":\"white\",\"linecolor\":\"white\",\"minorgridcolor\":\"white\",\"startlinecolor\":\"#2a3f5f\"},\"baxis\":{\"endlinecolor\":\"#2a3f5f\",\"gridcolor\":\"white\",\"linecolor\":\"white\",\"minorgridcolor\":\"white\",\"startlinecolor\":\"#2a3f5f\"},\"type\":\"carpet\"}],\"table\":[{\"cells\":{\"fill\":{\"color\":\"#EBF0F8\"},\"line\":{\"color\":\"white\"}},\"header\":{\"fill\":{\"color\":\"#C8D4E3\"},\"line\":{\"color\":\"white\"}},\"type\":\"table\"}],\"barpolar\":[{\"marker\":{\"line\":{\"color\":\"#E5ECF6\",\"width\":0.5},\"pattern\":{\"fillmode\":\"overlay\",\"size\":10,\"solidity\":0.2}},\"type\":\"barpolar\"}],\"pie\":[{\"automargin\":true,\"type\":\"pie\"}]},\"layout\":{\"autotypenumbers\":\"strict\",\"colorway\":[\"#636efa\",\"#EF553B\",\"#00cc96\",\"#ab63fa\",\"#FFA15A\",\"#19d3f3\",\"#FF6692\",\"#B6E880\",\"#FF97FF\",\"#FECB52\"],\"font\":{\"color\":\"#2a3f5f\"},\"hovermode\":\"closest\",\"hoverlabel\":{\"align\":\"left\"},\"paper_bgcolor\":\"white\",\"plot_bgcolor\":\"#E5ECF6\",\"polar\":{\"bgcolor\":\"#E5ECF6\",\"angularaxis\":{\"gridcolor\":\"white\",\"linecolor\":\"white\",\"ticks\":\"\"},\"radialaxis\":{\"gridcolor\":\"white\",\"linecolor\":\"white\",\"ticks\":\"\"}},\"ternary\":{\"bgcolor\":\"#E5ECF6\",\"aaxis\":{\"gridcolor\":\"white\",\"linecolor\":\"white\",\"ticks\":\"\"},\"baxis\":{\"gridcolor\":\"white\",\"linecolor\":\"white\",\"ticks\":\"\"},\"caxis\":{\"gridcolor\":\"white\",\"linecolor\":\"white\",\"ticks\":\"\"}},\"coloraxis\":{\"colorbar\":{\"outlinewidth\":0,\"ticks\":\"\"}},\"colorscale\":{\"sequential\":[[0.0,\"#0d0887\"],[0.1111111111111111,\"#46039f\"],[0.2222222222222222,\"#7201a8\"],[0.3333333333333333,\"#9c179e\"],[0.4444444444444444,\"#bd3786\"],[0.5555555555555556,\"#d8576b\"],[0.6666666666666666,\"#ed7953\"],[0.7777777777777778,\"#fb9f3a\"],[0.8888888888888888,\"#fdca26\"],[1.0,\"#f0f921\"]],\"sequentialminus\":[[0.0,\"#0d0887\"],[0.1111111111111111,\"#46039f\"],[0.2222222222222222,\"#7201a8\"],[0.3333333333333333,\"#9c179e\"],[0.4444444444444444,\"#bd3786\"],[0.5555555555555556,\"#d8576b\"],[0.6666666666666666,\"#ed7953\"],[0.7777777777777778,\"#fb9f3a\"],[0.8888888888888888,\"#fdca26\"],[1.0,\"#f0f921\"]],\"diverging\":[[0,\"#8e0152\"],[0.1,\"#c51b7d\"],[0.2,\"#de77ae\"],[0.3,\"#f1b6da\"],[0.4,\"#fde0ef\"],[0.5,\"#f7f7f7\"],[0.6,\"#e6f5d0\"],[0.7,\"#b8e186\"],[0.8,\"#7fbc41\"],[0.9,\"#4d9221\"],[1,\"#276419\"]]},\"xaxis\":{\"gridcolor\":\"white\",\"linecolor\":\"white\",\"ticks\":\"\",\"title\":{\"standoff\":15},\"zerolinecolor\":\"white\",\"automargin\":true,\"zerolinewidth\":2},\"yaxis\":{\"gridcolor\":\"white\",\"linecolor\":\"white\",\"ticks\":\"\",\"title\":{\"standoff\":15},\"zerolinecolor\":\"white\",\"automargin\":true,\"zerolinewidth\":2},\"scene\":{\"xaxis\":{\"backgroundcolor\":\"#E5ECF6\",\"gridcolor\":\"white\",\"linecolor\":\"white\",\"showbackground\":true,\"ticks\":\"\",\"zerolinecolor\":\"white\",\"gridwidth\":2},\"yaxis\":{\"backgroundcolor\":\"#E5ECF6\",\"gridcolor\":\"white\",\"linecolor\":\"white\",\"showbackground\":true,\"ticks\":\"\",\"zerolinecolor\":\"white\",\"gridwidth\":2},\"zaxis\":{\"backgroundcolor\":\"#E5ECF6\",\"gridcolor\":\"white\",\"linecolor\":\"white\",\"showbackground\":true,\"ticks\":\"\",\"zerolinecolor\":\"white\",\"gridwidth\":2}},\"shapedefaults\":{\"line\":{\"color\":\"#2a3f5f\"}},\"annotationdefaults\":{\"arrowcolor\":\"#2a3f5f\",\"arrowhead\":0,\"arrowwidth\":1},\"geo\":{\"bgcolor\":\"white\",\"landcolor\":\"#E5ECF6\",\"subunitcolor\":\"white\",\"showland\":true,\"showlakes\":true,\"lakecolor\":\"white\"},\"title\":{\"x\":0.05},\"mapbox\":{\"style\":\"light\"}}},\"xaxis\":{\"anchor\":\"y\",\"domain\":[0.0,1.0],\"title\":{\"text\":\"Categoria\"}},\"yaxis\":{\"anchor\":\"x\",\"domain\":[0.0,1.0],\"title\":{\"text\":\"Descontos\"}},\"legend\":{\"tracegroupgap\":0},\"title\":{\"text\":\"Desconto por categoria\"},\"barmode\":\"relative\"},                        {\"responsive\": true}                    ).then(function(){\n",
              "                            \n",
              "var gd = document.getElementById('d7da0f7b-be35-42d3-bfe2-ccb2068e0732');\n",
              "var x = new MutationObserver(function (mutations, observer) {{\n",
              "        var display = window.getComputedStyle(gd).display;\n",
              "        if (!display || display === 'none') {{\n",
              "            console.log([gd, 'removed!']);\n",
              "            Plotly.purge(gd);\n",
              "            observer.disconnect();\n",
              "        }}\n",
              "}});\n",
              "\n",
              "// Listen for the removal of the full notebook cells\n",
              "var notebookContainer = gd.closest('#notebook-container');\n",
              "if (notebookContainer) {{\n",
              "    x.observe(notebookContainer, {childList: true});\n",
              "}}\n",
              "\n",
              "// Listen for the clearing of the current output cell\n",
              "var outputEl = gd.closest('.output');\n",
              "if (outputEl) {{\n",
              "    x.observe(outputEl, {childList: true});\n",
              "}}\n",
              "\n",
              "                        })                };                            </script>        </div>\n",
              "</body>\n",
              "</html>"
            ]
          },
          "metadata": {}
        }
      ]
    },
    {
      "cell_type": "markdown",
      "source": [
        "# 5 - Plote um gráfico de mapa interativo agrupando os dados por categoria, marca e trazendo a média de desconto."
      ],
      "metadata": {
        "id": "vqlx0w7E07uC"
      }
    },
    {
      "cell_type": "code",
      "source": [
        "# Seu código aqui\n",
        "maptree = df.groupby(['Categoria', 'Marca'])['Desconto'].mean().reset_index()\n",
        "fig = px.treemap(maptree, path=['Categoria', 'Marca'], values='Desconto',\n",
        "                  title='Desconto por categoria e marca', color='Marca')\n",
        "fig.show()"
      ],
      "metadata": {
        "id": "D-JWM64Q1NzB",
        "colab": {
          "base_uri": "https://localhost:8080/",
          "height": 542
        },
        "outputId": "d81ec094-fd01-4c2a-b416-7dde25f5ac08"
      },
      "execution_count": 66,
      "outputs": [
        {
          "output_type": "display_data",
          "data": {
            "text/html": [
              "<html>\n",
              "<head><meta charset=\"utf-8\" /></head>\n",
              "<body>\n",
              "    <div>            <script src=\"https://cdnjs.cloudflare.com/ajax/libs/mathjax/2.7.5/MathJax.js?config=TeX-AMS-MML_SVG\"></script><script type=\"text/javascript\">if (window.MathJax && window.MathJax.Hub && window.MathJax.Hub.Config) {window.MathJax.Hub.Config({SVG: {font: \"STIX-Web\"}});}</script>                <script type=\"text/javascript\">window.PlotlyConfig = {MathJaxConfig: 'local'};</script>\n",
              "        <script charset=\"utf-8\" src=\"https://cdn.plot.ly/plotly-2.35.2.min.js\"></script>                <div id=\"4f550471-5cff-4470-921f-f3fb6ad9dd27\" class=\"plotly-graph-div\" style=\"height:525px; width:100%;\"></div>            <script type=\"text/javascript\">                                    window.PLOTLYENV=window.PLOTLYENV || {};                                    if (document.getElementById(\"4f550471-5cff-4470-921f-f3fb6ad9dd27\")) {                    Plotly.newPlot(                        \"4f550471-5cff-4470-921f-f3fb6ad9dd27\",                        [{\"branchvalues\":\"total\",\"customdata\":[[\"Protex\"],[\"Qualy\"],[\"Viennetta Bresler\"],[\"Old Spice\"],[\"King\"],[\"1+1 Soprole\"],[\"Activia\"],[\"Quillayes\"],[\"Agrosano\"],[\"Alcafood\"],[\"Alimentos Shen\"],[\"Rana\"],[\"Always\"],[\"Aquafresh\"],[\"Receta Del Abuelo\"],[\"Kotex\"],[\"Gourmet\"],[\"Kumey\"],[\"Astra\"],[\"Regimel\"],[\"Rexona\"],[\"Axe\"],[\"Omega 3\"],[\"La Crianza\"],[\"Rexona Clinical\"],[\"Rexona Men\"],[\"Rexona Men Clinical\"],[\"Babyland\"],[\"Rikü\"],[\"Rock\"],[\"Sadia\"],[\"Guallarauco\"],[\"Ballerina\"],[\"Base Culinar\"],[\"Sadia\"],[\"Head & Shoulders\"],[\"Oral Fresh\"],[\"La Crianza\"],[\"Sahne Nuss\"],[\"Sahne Nuss\"],[\"San Francisco De Loncomilla\"],[\"Bellekiss\"],[\"Yogu - Yogu\"],[\"BiO\"],[\"Bonella\"],[\"Bravissimo\"],[\"Bredenmaster\"],[\"Bresler\"],[\"Brooks\"],[\"Calan\"],[\"Lady Speed Stick\"],[\"Calo\"],[\"Not Ice Cream\"],[\"Zerolacto\"],[\"Not Milk\"],[\"Ladysoft\"],[\"Carefree\"],[\"Carozzi\"],[\"Carte Dor\"],[\"Oral-B\"],[\"Le Sancy\"],[\"Chamyto\"],[\"Chiquitín\"],[\"Cintazul\"],[\"PF\"],[\"San Ignacio\"],[\"Colgate\"],[\"Zole\"],[\"Lefersa\"],[\"Collico\"],[\"San Jorge\"],[\"Light & Free\"],[\"Herbal\"],[\"Colun\"],[\"Copacabana\"],[\"Corbac\"],[\"Santa Isabel\"],[\"Santa Isabel\"],[\"Cotidian\"],[\"Cotosan\"],[\"Santa Isabel\"],[\"Santa Marta\"],[\"PF\"],[\"Linic\"],[\"Savory\"],[\"Listerine\"],[\"Loncoleche\"],[\"Los Alerces\"],[\"Schick\"],[\"Pamperita\"],[\"Crucina\"],[\"Pantene\"],[\"Sedal\"],[\"Sensodyne\"],[\"Shake A Shake Lonco Leche\"],[\"Signore Mario\"],[\"Cuisine & Co\"],[\"Cuisine & Co\"],[\"Cuisine & Co\"],[\"Maggi\"],[\"Magnum\"],[\"Marco Polo\"],[\"Simond'S\"],[\"Simonds\"],[\"Cuisine & Co\"],[\"Sofruco\"],[\"Danone\"],[\"Deline\"],[\"Mega\"],[\"Herbal Essences\"],[\"Solo Italia\"],[\"Dento\"],[\"Dole\"],[\"Dove\"],[\"Dove Men\"],[\"Soprole\"],[\"Soprole Activ\"],[\"Hoffmann\"],[\"Minuto Verde\"],[\"Speed Stick\"],[\"Duralón\"],[\"Elite\"],[\"Elvive\"],[\"Familand\"],[\"Mister Veggie\"],[\"Máxima MP\"],[\"Ideal\"],[\"Máxima MP\"],[\"Naturella\"],[\"Super Beef\"],[\"Naturezza\"],[\"Super Cerdo\"],[\"Nesquik\"],[\"Ilicit\"],[\"Pepsodent\"],[\"Super Pollo\"],[\"Sureña\"],[\"Nestlé\"],[\"Family Care\"],[\"Fiesta\"],[\"Fructis\"],[\"Surlat\"],[\"Svelty\"],[\"Frutas Y Verduras Propias\"],[\"Frutas Y Verduras Propias\"],[\"Oikos\"],[\"Jumbo\"],[\"Tena\"],[\"Tivoni\"],[\"Frutas Y Verduras Santa Isabel\"],[\"Next\"],[\"Nido\"],[\"Nivea\"],[\"Traverso\"],[\"Trianon\"],[\"Turkey Hill\"],[\"Frutos Del Maipo\"],[\"Nivea For Men\"],[\"Plenitud\"],[\"Garnier\"],[\"Nosotras\"],[\"Gillette\"],[\"Giselle\"],[\"Not Burger\"],[\"Tío Nacho\"],[\"Vanart\"],[\"Not Chicken\"],[\"(?)\"],[\"(?)\"],[\"(?)\"],[\"(?)\"],[\"(?)\"],[\"(?)\"],[\"(?)\"]],\"domain\":{\"x\":[0.0,1.0],\"y\":[0.0,1.0]},\"hovertemplate\":\"labels=%{label}\\u003cbr\\u003eDesconto=%{value}\\u003cbr\\u003eparent=%{parent}\\u003cbr\\u003eid=%{id}\\u003cbr\\u003eMarca=%{customdata[0]}\\u003cextra\\u003e\\u003c\\u002fextra\\u003e\",\"ids\":[\"belleza-y-cuidado-personal\\u002fProtex\",\"lacteos\\u002fQualy\",\"congelados\\u002fViennetta Bresler\",\"belleza-y-cuidado-personal\\u002fOld Spice\",\"congelados\\u002fKing\",\"lacteos\\u002f1+1 Soprole\",\"lacteos\\u002fActivia\",\"lacteos\\u002fQuillayes\",\"verduras\\u002fAgrosano\",\"instantaneos-y-sopas\\u002fAlcafood\",\"congelados\\u002fAlimentos Shen\",\"comidas-preparadas\\u002fRana\",\"belleza-y-cuidado-personal\\u002fAlways\",\"belleza-y-cuidado-personal\\u002fAquafresh\",\"congelados\\u002fReceta Del Abuelo\",\"belleza-y-cuidado-personal\\u002fKotex\",\"instantaneos-y-sopas\\u002fGourmet\",\"lacteos\\u002fKumey\",\"lacteos\\u002fAstra\",\"lacteos\\u002fRegimel\",\"belleza-y-cuidado-personal\\u002fRexona\",\"belleza-y-cuidado-personal\\u002fAxe\",\"lacteos\\u002fOmega 3\",\"comidas-preparadas\\u002fLa Crianza\",\"belleza-y-cuidado-personal\\u002fRexona Clinical\",\"belleza-y-cuidado-personal\\u002fRexona Men\",\"belleza-y-cuidado-personal\\u002fRexona Men Clinical\",\"belleza-y-cuidado-personal\\u002fBabyland\",\"congelados\\u002fRikü\",\"congelados\\u002fRock\",\"comidas-preparadas\\u002fSadia\",\"congelados\\u002fGuallarauco\",\"belleza-y-cuidado-personal\\u002fBallerina\",\"lacteos\\u002fBase Culinar\",\"congelados\\u002fSadia\",\"belleza-y-cuidado-personal\\u002fHead & Shoulders\",\"belleza-y-cuidado-personal\\u002fOral Fresh\",\"congelados\\u002fLa Crianza\",\"congelados\\u002fSahne Nuss\",\"lacteos\\u002fSahne Nuss\",\"congelados\\u002fSan Francisco De Loncomilla\",\"belleza-y-cuidado-personal\\u002fBellekiss\",\"lacteos\\u002fYogu - Yogu\",\"belleza-y-cuidado-personal\\u002fBiO\",\"lacteos\\u002fBonella\",\"congelados\\u002fBravissimo\",\"comidas-preparadas\\u002fBredenmaster\",\"congelados\\u002fBresler\",\"belleza-y-cuidado-personal\\u002fBrooks\",\"lacteos\\u002fCalan\",\"belleza-y-cuidado-personal\\u002fLady Speed Stick\",\"lacteos\\u002fCalo\",\"congelados\\u002fNot Ice Cream\",\"lacteos\\u002fZerolacto\",\"lacteos\\u002fNot Milk\",\"belleza-y-cuidado-personal\\u002fLadysoft\",\"belleza-y-cuidado-personal\\u002fCarefree\",\"instantaneos-y-sopas\\u002fCarozzi\",\"congelados\\u002fCarte Dor\",\"belleza-y-cuidado-personal\\u002fOral-B\",\"belleza-y-cuidado-personal\\u002fLe Sancy\",\"lacteos\\u002fChamyto\",\"lacteos\\u002fChiquitín\",\"lacteos\\u002fCintazul\",\"comidas-preparadas\\u002fPF\",\"lacteos\\u002fSan Ignacio\",\"belleza-y-cuidado-personal\\u002fColgate\",\"congelados\\u002fZole\",\"lacteos\\u002fLefersa\",\"lacteos\\u002fCollico\",\"congelados\\u002fSan Jorge\",\"lacteos\\u002fLight & Free\",\"belleza-y-cuidado-personal\\u002fHerbal\",\"lacteos\\u002fColun\",\"lacteos\\u002fCopacabana\",\"comidas-preparadas\\u002fCorbac\",\"comidas-preparadas\\u002fSanta Isabel\",\"instantaneos-y-sopas\\u002fSanta Isabel\",\"belleza-y-cuidado-personal\\u002fCotidian\",\"belleza-y-cuidado-personal\\u002fCotosan\",\"lacteos\\u002fSanta Isabel\",\"lacteos\\u002fSanta Marta\",\"congelados\\u002fPF\",\"belleza-y-cuidado-personal\\u002fLinic\",\"congelados\\u002fSavory\",\"belleza-y-cuidado-personal\\u002fListerine\",\"lacteos\\u002fLoncoleche\",\"lacteos\\u002fLos Alerces\",\"belleza-y-cuidado-personal\\u002fSchick\",\"lacteos\\u002fPamperita\",\"lacteos\\u002fCrucina\",\"belleza-y-cuidado-personal\\u002fPantene\",\"belleza-y-cuidado-personal\\u002fSedal\",\"belleza-y-cuidado-personal\\u002fSensodyne\",\"lacteos\\u002fShake A Shake Lonco Leche\",\"lacteos\\u002fSignore Mario\",\"comidas-preparadas\\u002fCuisine & Co\",\"congelados\\u002fCuisine & Co\",\"instantaneos-y-sopas\\u002fCuisine & Co\",\"instantaneos-y-sopas\\u002fMaggi\",\"congelados\\u002fMagnum\",\"lacteos\\u002fMarco Polo\",\"belleza-y-cuidado-personal\\u002fSimond'S\",\"belleza-y-cuidado-personal\\u002fSimonds\",\"lacteos\\u002fCuisine & Co\",\"frutas\\u002fSofruco\",\"lacteos\\u002fDanone\",\"lacteos\\u002fDeline\",\"congelados\\u002fMega\",\"belleza-y-cuidado-personal\\u002fHerbal Essences\",\"comidas-preparadas\\u002fSolo Italia\",\"belleza-y-cuidado-personal\\u002fDento\",\"verduras\\u002fDole\",\"belleza-y-cuidado-personal\\u002fDove\",\"belleza-y-cuidado-personal\\u002fDove Men\",\"lacteos\\u002fSoprole\",\"lacteos\\u002fSoprole Activ\",\"instantaneos-y-sopas\\u002fHoffmann\",\"congelados\\u002fMinuto Verde\",\"belleza-y-cuidado-personal\\u002fSpeed Stick\",\"belleza-y-cuidado-personal\\u002fDuralón\",\"belleza-y-cuidado-personal\\u002fElite\",\"belleza-y-cuidado-personal\\u002fElvive\",\"belleza-y-cuidado-personal\\u002fFamiland\",\"congelados\\u002fMister Veggie\",\"instantaneos-y-sopas\\u002fMáxima MP\",\"lacteos\\u002fIdeal\",\"lacteos\\u002fMáxima MP\",\"belleza-y-cuidado-personal\\u002fNaturella\",\"congelados\\u002fSuper Beef\",\"instantaneos-y-sopas\\u002fNaturezza\",\"congelados\\u002fSuper Cerdo\",\"lacteos\\u002fNesquik\",\"belleza-y-cuidado-personal\\u002fIlicit\",\"belleza-y-cuidado-personal\\u002fPepsodent\",\"congelados\\u002fSuper Pollo\",\"lacteos\\u002fSureña\",\"lacteos\\u002fNestlé\",\"belleza-y-cuidado-personal\\u002fFamily Care\",\"congelados\\u002fFiesta\",\"belleza-y-cuidado-personal\\u002fFructis\",\"lacteos\\u002fSurlat\",\"lacteos\\u002fSvelty\",\"frutas\\u002fFrutas Y Verduras Propias\",\"verduras\\u002fFrutas Y Verduras Propias\",\"lacteos\\u002fOikos\",\"verduras\\u002fJumbo\",\"belleza-y-cuidado-personal\\u002fTena\",\"congelados\\u002fTivoni\",\"frutas\\u002fFrutas Y Verduras Santa Isabel\",\"lacteos\\u002fNext\",\"lacteos\\u002fNido\",\"belleza-y-cuidado-personal\\u002fNivea\",\"instantaneos-y-sopas\\u002fTraverso\",\"belleza-y-cuidado-personal\\u002fTrianon\",\"congelados\\u002fTurkey Hill\",\"congelados\\u002fFrutos Del Maipo\",\"belleza-y-cuidado-personal\\u002fNivea For Men\",\"belleza-y-cuidado-personal\\u002fPlenitud\",\"belleza-y-cuidado-personal\\u002fGarnier\",\"belleza-y-cuidado-personal\\u002fNosotras\",\"belleza-y-cuidado-personal\\u002fGillette\",\"belleza-y-cuidado-personal\\u002fGiselle\",\"congelados\\u002fNot Burger\",\"belleza-y-cuidado-personal\\u002fTío Nacho\",\"belleza-y-cuidado-personal\\u002fVanart\",\"congelados\\u002fNot Chicken\",\"belleza-y-cuidado-personal\",\"comidas-preparadas\",\"congelados\",\"frutas\",\"instantaneos-y-sopas\",\"lacteos\",\"verduras\"],\"labels\":[\"Protex\",\"Qualy\",\"Viennetta Bresler\",\"Old Spice\",\"King\",\"1+1 Soprole\",\"Activia\",\"Quillayes\",\"Agrosano\",\"Alcafood\",\"Alimentos Shen\",\"Rana\",\"Always\",\"Aquafresh\",\"Receta Del Abuelo\",\"Kotex\",\"Gourmet\",\"Kumey\",\"Astra\",\"Regimel\",\"Rexona\",\"Axe\",\"Omega 3\",\"La Crianza\",\"Rexona Clinical\",\"Rexona Men\",\"Rexona Men Clinical\",\"Babyland\",\"Rikü\",\"Rock\",\"Sadia\",\"Guallarauco\",\"Ballerina\",\"Base Culinar\",\"Sadia\",\"Head & Shoulders\",\"Oral Fresh\",\"La Crianza\",\"Sahne Nuss\",\"Sahne Nuss\",\"San Francisco De Loncomilla\",\"Bellekiss\",\"Yogu - Yogu\",\"BiO\",\"Bonella\",\"Bravissimo\",\"Bredenmaster\",\"Bresler\",\"Brooks\",\"Calan\",\"Lady Speed Stick\",\"Calo\",\"Not Ice Cream\",\"Zerolacto\",\"Not Milk\",\"Ladysoft\",\"Carefree\",\"Carozzi\",\"Carte Dor\",\"Oral-B\",\"Le Sancy\",\"Chamyto\",\"Chiquitín\",\"Cintazul\",\"PF\",\"San Ignacio\",\"Colgate\",\"Zole\",\"Lefersa\",\"Collico\",\"San Jorge\",\"Light & Free\",\"Herbal\",\"Colun\",\"Copacabana\",\"Corbac\",\"Santa Isabel\",\"Santa Isabel\",\"Cotidian\",\"Cotosan\",\"Santa Isabel\",\"Santa Marta\",\"PF\",\"Linic\",\"Savory\",\"Listerine\",\"Loncoleche\",\"Los Alerces\",\"Schick\",\"Pamperita\",\"Crucina\",\"Pantene\",\"Sedal\",\"Sensodyne\",\"Shake A Shake Lonco Leche\",\"Signore Mario\",\"Cuisine & Co\",\"Cuisine & Co\",\"Cuisine & Co\",\"Maggi\",\"Magnum\",\"Marco Polo\",\"Simond'S\",\"Simonds\",\"Cuisine & Co\",\"Sofruco\",\"Danone\",\"Deline\",\"Mega\",\"Herbal Essences\",\"Solo Italia\",\"Dento\",\"Dole\",\"Dove\",\"Dove Men\",\"Soprole\",\"Soprole Activ\",\"Hoffmann\",\"Minuto Verde\",\"Speed Stick\",\"Duralón\",\"Elite\",\"Elvive\",\"Familand\",\"Mister Veggie\",\"Máxima MP\",\"Ideal\",\"Máxima MP\",\"Naturella\",\"Super Beef\",\"Naturezza\",\"Super Cerdo\",\"Nesquik\",\"Ilicit\",\"Pepsodent\",\"Super Pollo\",\"Sureña\",\"Nestlé\",\"Family Care\",\"Fiesta\",\"Fructis\",\"Surlat\",\"Svelty\",\"Frutas Y Verduras Propias\",\"Frutas Y Verduras Propias\",\"Oikos\",\"Jumbo\",\"Tena\",\"Tivoni\",\"Frutas Y Verduras Santa Isabel\",\"Next\",\"Nido\",\"Nivea\",\"Traverso\",\"Trianon\",\"Turkey Hill\",\"Frutos Del Maipo\",\"Nivea For Men\",\"Plenitud\",\"Garnier\",\"Nosotras\",\"Gillette\",\"Giselle\",\"Not Burger\",\"Tío Nacho\",\"Vanart\",\"Not Chicken\",\"belleza-y-cuidado-personal\",\"comidas-preparadas\",\"congelados\",\"frutas\",\"instantaneos-y-sopas\",\"lacteos\",\"verduras\"],\"marker\":{\"colors\":[\"#636efa\",\"#EF553B\",\"#00cc96\",\"#ab63fa\",\"#FFA15A\",\"#19d3f3\",\"#FF6692\",\"#B6E880\",\"#FF97FF\",\"#FECB52\",\"#636efa\",\"#EF553B\",\"#00cc96\",\"#ab63fa\",\"#FFA15A\",\"#19d3f3\",\"#FF6692\",\"#B6E880\",\"#FF97FF\",\"#FECB52\",\"#636efa\",\"#EF553B\",\"#00cc96\",\"#ab63fa\",\"#FFA15A\",\"#19d3f3\",\"#FF6692\",\"#B6E880\",\"#FF97FF\",\"#FECB52\",\"#636efa\",\"#EF553B\",\"#00cc96\",\"#ab63fa\",\"#636efa\",\"#FFA15A\",\"#19d3f3\",\"#ab63fa\",\"#FF6692\",\"#FF6692\",\"#B6E880\",\"#FF97FF\",\"#FECB52\",\"#636efa\",\"#EF553B\",\"#00cc96\",\"#ab63fa\",\"#FFA15A\",\"#19d3f3\",\"#FF6692\",\"#B6E880\",\"#FF97FF\",\"#FECB52\",\"#636efa\",\"#EF553B\",\"#00cc96\",\"#ab63fa\",\"#FFA15A\",\"#19d3f3\",\"#FF6692\",\"#B6E880\",\"#FF97FF\",\"#FECB52\",\"#636efa\",\"#EF553B\",\"#00cc96\",\"#ab63fa\",\"#FFA15A\",\"#19d3f3\",\"#FF6692\",\"#B6E880\",\"#FF97FF\",\"#FECB52\",\"#636efa\",\"#EF553B\",\"#00cc96\",\"#ab63fa\",\"#ab63fa\",\"#FFA15A\",\"#19d3f3\",\"#ab63fa\",\"#FF6692\",\"#EF553B\",\"#B6E880\",\"#FF97FF\",\"#FECB52\",\"#636efa\",\"#EF553B\",\"#00cc96\",\"#ab63fa\",\"#FFA15A\",\"#19d3f3\",\"#FF6692\",\"#B6E880\",\"#FF97FF\",\"#FECB52\",\"#636efa\",\"#636efa\",\"#636efa\",\"#EF553B\",\"#00cc96\",\"#ab63fa\",\"#FFA15A\",\"#19d3f3\",\"#636efa\",\"#FF6692\",\"#B6E880\",\"#FF97FF\",\"#FECB52\",\"#636efa\",\"#EF553B\",\"#00cc96\",\"#ab63fa\",\"#FFA15A\",\"#19d3f3\",\"#FF6692\",\"#B6E880\",\"#FF97FF\",\"#FECB52\",\"#636efa\",\"#EF553B\",\"#00cc96\",\"#ab63fa\",\"#FFA15A\",\"#19d3f3\",\"#FF6692\",\"#B6E880\",\"#FF6692\",\"#FF97FF\",\"#FECB52\",\"#636efa\",\"#EF553B\",\"#00cc96\",\"#ab63fa\",\"#FFA15A\",\"#19d3f3\",\"#FF6692\",\"#B6E880\",\"#FF97FF\",\"#FECB52\",\"#636efa\",\"#EF553B\",\"#00cc96\",\"#ab63fa\",\"#ab63fa\",\"#FFA15A\",\"#19d3f3\",\"#FF6692\",\"#B6E880\",\"#FF97FF\",\"#FECB52\",\"#636efa\",\"#EF553B\",\"#00cc96\",\"#ab63fa\",\"#FFA15A\",\"#19d3f3\",\"#FF6692\",\"#B6E880\",\"#FF97FF\",\"#FECB52\",\"#636efa\",\"#EF553B\",\"#00cc96\",\"#ab63fa\",\"#FFA15A\",\"#19d3f3\",\"#FF6692\",\"#FF6692\",\"#FF6692\",\"#FF6692\",\"#FF6692\",\"#FF6692\",\"#FF6692\"]},\"name\":\"\",\"parents\":[\"belleza-y-cuidado-personal\",\"lacteos\",\"congelados\",\"belleza-y-cuidado-personal\",\"congelados\",\"lacteos\",\"lacteos\",\"lacteos\",\"verduras\",\"instantaneos-y-sopas\",\"congelados\",\"comidas-preparadas\",\"belleza-y-cuidado-personal\",\"belleza-y-cuidado-personal\",\"congelados\",\"belleza-y-cuidado-personal\",\"instantaneos-y-sopas\",\"lacteos\",\"lacteos\",\"lacteos\",\"belleza-y-cuidado-personal\",\"belleza-y-cuidado-personal\",\"lacteos\",\"comidas-preparadas\",\"belleza-y-cuidado-personal\",\"belleza-y-cuidado-personal\",\"belleza-y-cuidado-personal\",\"belleza-y-cuidado-personal\",\"congelados\",\"congelados\",\"comidas-preparadas\",\"congelados\",\"belleza-y-cuidado-personal\",\"lacteos\",\"congelados\",\"belleza-y-cuidado-personal\",\"belleza-y-cuidado-personal\",\"congelados\",\"congelados\",\"lacteos\",\"congelados\",\"belleza-y-cuidado-personal\",\"lacteos\",\"belleza-y-cuidado-personal\",\"lacteos\",\"congelados\",\"comidas-preparadas\",\"congelados\",\"belleza-y-cuidado-personal\",\"lacteos\",\"belleza-y-cuidado-personal\",\"lacteos\",\"congelados\",\"lacteos\",\"lacteos\",\"belleza-y-cuidado-personal\",\"belleza-y-cuidado-personal\",\"instantaneos-y-sopas\",\"congelados\",\"belleza-y-cuidado-personal\",\"belleza-y-cuidado-personal\",\"lacteos\",\"lacteos\",\"lacteos\",\"comidas-preparadas\",\"lacteos\",\"belleza-y-cuidado-personal\",\"congelados\",\"lacteos\",\"lacteos\",\"congelados\",\"lacteos\",\"belleza-y-cuidado-personal\",\"lacteos\",\"lacteos\",\"comidas-preparadas\",\"comidas-preparadas\",\"instantaneos-y-sopas\",\"belleza-y-cuidado-personal\",\"belleza-y-cuidado-personal\",\"lacteos\",\"lacteos\",\"congelados\",\"belleza-y-cuidado-personal\",\"congelados\",\"belleza-y-cuidado-personal\",\"lacteos\",\"lacteos\",\"belleza-y-cuidado-personal\",\"lacteos\",\"lacteos\",\"belleza-y-cuidado-personal\",\"belleza-y-cuidado-personal\",\"belleza-y-cuidado-personal\",\"lacteos\",\"lacteos\",\"comidas-preparadas\",\"congelados\",\"instantaneos-y-sopas\",\"instantaneos-y-sopas\",\"congelados\",\"lacteos\",\"belleza-y-cuidado-personal\",\"belleza-y-cuidado-personal\",\"lacteos\",\"frutas\",\"lacteos\",\"lacteos\",\"congelados\",\"belleza-y-cuidado-personal\",\"comidas-preparadas\",\"belleza-y-cuidado-personal\",\"verduras\",\"belleza-y-cuidado-personal\",\"belleza-y-cuidado-personal\",\"lacteos\",\"lacteos\",\"instantaneos-y-sopas\",\"congelados\",\"belleza-y-cuidado-personal\",\"belleza-y-cuidado-personal\",\"belleza-y-cuidado-personal\",\"belleza-y-cuidado-personal\",\"belleza-y-cuidado-personal\",\"congelados\",\"instantaneos-y-sopas\",\"lacteos\",\"lacteos\",\"belleza-y-cuidado-personal\",\"congelados\",\"instantaneos-y-sopas\",\"congelados\",\"lacteos\",\"belleza-y-cuidado-personal\",\"belleza-y-cuidado-personal\",\"congelados\",\"lacteos\",\"lacteos\",\"belleza-y-cuidado-personal\",\"congelados\",\"belleza-y-cuidado-personal\",\"lacteos\",\"lacteos\",\"frutas\",\"verduras\",\"lacteos\",\"verduras\",\"belleza-y-cuidado-personal\",\"congelados\",\"frutas\",\"lacteos\",\"lacteos\",\"belleza-y-cuidado-personal\",\"instantaneos-y-sopas\",\"belleza-y-cuidado-personal\",\"congelados\",\"congelados\",\"belleza-y-cuidado-personal\",\"belleza-y-cuidado-personal\",\"belleza-y-cuidado-personal\",\"belleza-y-cuidado-personal\",\"belleza-y-cuidado-personal\",\"belleza-y-cuidado-personal\",\"congelados\",\"belleza-y-cuidado-personal\",\"belleza-y-cuidado-personal\",\"congelados\",\"\",\"\",\"\",\"\",\"\",\"\",\"\"],\"values\":[304.5,0.0,546.0,0.0,0.0,0.0,0.0,0.0,0.0,0.0,0.0,0.0,123.75,444.6666666666667,0.0,55.166666666666664,0.0,0.0,0.0,0.0,660.0,590.0,0.0,0.0,795.0,660.0,795.0,0.0,0.0,0.0,0.0,0.0,34.083333333333336,0.0,0.0,0.0,797.0,0.0,164.25,0.0,0.0,0.0,0.0,650.0,0.0,0.0,0.0,429.7857142857143,0.0,0.0,0.0,0.0,0.0,0.0,160.0,94.83333333333333,0.0,0.0,357.5,88.55555555555556,0.0,0.0,0.0,0.0,200.0,0.0,117.0952380952381,0.0,0.0,0.0,70.0,0.0,0.0,4.471264367816092,0.0,0.0,0.0,0.0,0.0,0.0,0.0,149.5,0.0,0.0,456.15625,0.0,0.0,0.0,0.0,0.0,0.0,684.8571428571429,0.0,0.0,0.0,0.0,0.0,148.34285714285716,0.0,0.0,955.0,0.0,0.0,300.0,16.318181818181817,0.0,0.0,0.0,657.0,0.0,0.0,0.0,0.0,429.8666666666667,252.25,10.852941176470589,0.0,0.0,19.5,0.0,0.0,0.0,0.0,0.0,0.0,0.0,0.0,0.0,0.0,120.0,0.0,0.0,0.0,0.0,344.3333333333333,0.0,261.0,1.7674418604651163,0.0,0.0,0.0,0.0,0.0,0.0,0.0,0.0,0.0,0.0,0.0,0.0,0.0,869.8,0.0,0.0,0.0,0.0,136.26666666666668,0.0,0.0,0.0,103.45454545454545,0.0,0.0,210.0,0.0,0.0,0.0,8324.412481962481,200.0,4269.801488095238,0.0,0.0,1473.7098292229334,0.0],\"type\":\"treemap\"}],                        {\"template\":{\"data\":{\"histogram2dcontour\":[{\"type\":\"histogram2dcontour\",\"colorbar\":{\"outlinewidth\":0,\"ticks\":\"\"},\"colorscale\":[[0.0,\"#0d0887\"],[0.1111111111111111,\"#46039f\"],[0.2222222222222222,\"#7201a8\"],[0.3333333333333333,\"#9c179e\"],[0.4444444444444444,\"#bd3786\"],[0.5555555555555556,\"#d8576b\"],[0.6666666666666666,\"#ed7953\"],[0.7777777777777778,\"#fb9f3a\"],[0.8888888888888888,\"#fdca26\"],[1.0,\"#f0f921\"]]}],\"choropleth\":[{\"type\":\"choropleth\",\"colorbar\":{\"outlinewidth\":0,\"ticks\":\"\"}}],\"histogram2d\":[{\"type\":\"histogram2d\",\"colorbar\":{\"outlinewidth\":0,\"ticks\":\"\"},\"colorscale\":[[0.0,\"#0d0887\"],[0.1111111111111111,\"#46039f\"],[0.2222222222222222,\"#7201a8\"],[0.3333333333333333,\"#9c179e\"],[0.4444444444444444,\"#bd3786\"],[0.5555555555555556,\"#d8576b\"],[0.6666666666666666,\"#ed7953\"],[0.7777777777777778,\"#fb9f3a\"],[0.8888888888888888,\"#fdca26\"],[1.0,\"#f0f921\"]]}],\"heatmap\":[{\"type\":\"heatmap\",\"colorbar\":{\"outlinewidth\":0,\"ticks\":\"\"},\"colorscale\":[[0.0,\"#0d0887\"],[0.1111111111111111,\"#46039f\"],[0.2222222222222222,\"#7201a8\"],[0.3333333333333333,\"#9c179e\"],[0.4444444444444444,\"#bd3786\"],[0.5555555555555556,\"#d8576b\"],[0.6666666666666666,\"#ed7953\"],[0.7777777777777778,\"#fb9f3a\"],[0.8888888888888888,\"#fdca26\"],[1.0,\"#f0f921\"]]}],\"heatmapgl\":[{\"type\":\"heatmapgl\",\"colorbar\":{\"outlinewidth\":0,\"ticks\":\"\"},\"colorscale\":[[0.0,\"#0d0887\"],[0.1111111111111111,\"#46039f\"],[0.2222222222222222,\"#7201a8\"],[0.3333333333333333,\"#9c179e\"],[0.4444444444444444,\"#bd3786\"],[0.5555555555555556,\"#d8576b\"],[0.6666666666666666,\"#ed7953\"],[0.7777777777777778,\"#fb9f3a\"],[0.8888888888888888,\"#fdca26\"],[1.0,\"#f0f921\"]]}],\"contourcarpet\":[{\"type\":\"contourcarpet\",\"colorbar\":{\"outlinewidth\":0,\"ticks\":\"\"}}],\"contour\":[{\"type\":\"contour\",\"colorbar\":{\"outlinewidth\":0,\"ticks\":\"\"},\"colorscale\":[[0.0,\"#0d0887\"],[0.1111111111111111,\"#46039f\"],[0.2222222222222222,\"#7201a8\"],[0.3333333333333333,\"#9c179e\"],[0.4444444444444444,\"#bd3786\"],[0.5555555555555556,\"#d8576b\"],[0.6666666666666666,\"#ed7953\"],[0.7777777777777778,\"#fb9f3a\"],[0.8888888888888888,\"#fdca26\"],[1.0,\"#f0f921\"]]}],\"surface\":[{\"type\":\"surface\",\"colorbar\":{\"outlinewidth\":0,\"ticks\":\"\"},\"colorscale\":[[0.0,\"#0d0887\"],[0.1111111111111111,\"#46039f\"],[0.2222222222222222,\"#7201a8\"],[0.3333333333333333,\"#9c179e\"],[0.4444444444444444,\"#bd3786\"],[0.5555555555555556,\"#d8576b\"],[0.6666666666666666,\"#ed7953\"],[0.7777777777777778,\"#fb9f3a\"],[0.8888888888888888,\"#fdca26\"],[1.0,\"#f0f921\"]]}],\"mesh3d\":[{\"type\":\"mesh3d\",\"colorbar\":{\"outlinewidth\":0,\"ticks\":\"\"}}],\"scatter\":[{\"fillpattern\":{\"fillmode\":\"overlay\",\"size\":10,\"solidity\":0.2},\"type\":\"scatter\"}],\"parcoords\":[{\"type\":\"parcoords\",\"line\":{\"colorbar\":{\"outlinewidth\":0,\"ticks\":\"\"}}}],\"scatterpolargl\":[{\"type\":\"scatterpolargl\",\"marker\":{\"colorbar\":{\"outlinewidth\":0,\"ticks\":\"\"}}}],\"bar\":[{\"error_x\":{\"color\":\"#2a3f5f\"},\"error_y\":{\"color\":\"#2a3f5f\"},\"marker\":{\"line\":{\"color\":\"#E5ECF6\",\"width\":0.5},\"pattern\":{\"fillmode\":\"overlay\",\"size\":10,\"solidity\":0.2}},\"type\":\"bar\"}],\"scattergeo\":[{\"type\":\"scattergeo\",\"marker\":{\"colorbar\":{\"outlinewidth\":0,\"ticks\":\"\"}}}],\"scatterpolar\":[{\"type\":\"scatterpolar\",\"marker\":{\"colorbar\":{\"outlinewidth\":0,\"ticks\":\"\"}}}],\"histogram\":[{\"marker\":{\"pattern\":{\"fillmode\":\"overlay\",\"size\":10,\"solidity\":0.2}},\"type\":\"histogram\"}],\"scattergl\":[{\"type\":\"scattergl\",\"marker\":{\"colorbar\":{\"outlinewidth\":0,\"ticks\":\"\"}}}],\"scatter3d\":[{\"type\":\"scatter3d\",\"line\":{\"colorbar\":{\"outlinewidth\":0,\"ticks\":\"\"}},\"marker\":{\"colorbar\":{\"outlinewidth\":0,\"ticks\":\"\"}}}],\"scattermapbox\":[{\"type\":\"scattermapbox\",\"marker\":{\"colorbar\":{\"outlinewidth\":0,\"ticks\":\"\"}}}],\"scatterternary\":[{\"type\":\"scatterternary\",\"marker\":{\"colorbar\":{\"outlinewidth\":0,\"ticks\":\"\"}}}],\"scattercarpet\":[{\"type\":\"scattercarpet\",\"marker\":{\"colorbar\":{\"outlinewidth\":0,\"ticks\":\"\"}}}],\"carpet\":[{\"aaxis\":{\"endlinecolor\":\"#2a3f5f\",\"gridcolor\":\"white\",\"linecolor\":\"white\",\"minorgridcolor\":\"white\",\"startlinecolor\":\"#2a3f5f\"},\"baxis\":{\"endlinecolor\":\"#2a3f5f\",\"gridcolor\":\"white\",\"linecolor\":\"white\",\"minorgridcolor\":\"white\",\"startlinecolor\":\"#2a3f5f\"},\"type\":\"carpet\"}],\"table\":[{\"cells\":{\"fill\":{\"color\":\"#EBF0F8\"},\"line\":{\"color\":\"white\"}},\"header\":{\"fill\":{\"color\":\"#C8D4E3\"},\"line\":{\"color\":\"white\"}},\"type\":\"table\"}],\"barpolar\":[{\"marker\":{\"line\":{\"color\":\"#E5ECF6\",\"width\":0.5},\"pattern\":{\"fillmode\":\"overlay\",\"size\":10,\"solidity\":0.2}},\"type\":\"barpolar\"}],\"pie\":[{\"automargin\":true,\"type\":\"pie\"}]},\"layout\":{\"autotypenumbers\":\"strict\",\"colorway\":[\"#636efa\",\"#EF553B\",\"#00cc96\",\"#ab63fa\",\"#FFA15A\",\"#19d3f3\",\"#FF6692\",\"#B6E880\",\"#FF97FF\",\"#FECB52\"],\"font\":{\"color\":\"#2a3f5f\"},\"hovermode\":\"closest\",\"hoverlabel\":{\"align\":\"left\"},\"paper_bgcolor\":\"white\",\"plot_bgcolor\":\"#E5ECF6\",\"polar\":{\"bgcolor\":\"#E5ECF6\",\"angularaxis\":{\"gridcolor\":\"white\",\"linecolor\":\"white\",\"ticks\":\"\"},\"radialaxis\":{\"gridcolor\":\"white\",\"linecolor\":\"white\",\"ticks\":\"\"}},\"ternary\":{\"bgcolor\":\"#E5ECF6\",\"aaxis\":{\"gridcolor\":\"white\",\"linecolor\":\"white\",\"ticks\":\"\"},\"baxis\":{\"gridcolor\":\"white\",\"linecolor\":\"white\",\"ticks\":\"\"},\"caxis\":{\"gridcolor\":\"white\",\"linecolor\":\"white\",\"ticks\":\"\"}},\"coloraxis\":{\"colorbar\":{\"outlinewidth\":0,\"ticks\":\"\"}},\"colorscale\":{\"sequential\":[[0.0,\"#0d0887\"],[0.1111111111111111,\"#46039f\"],[0.2222222222222222,\"#7201a8\"],[0.3333333333333333,\"#9c179e\"],[0.4444444444444444,\"#bd3786\"],[0.5555555555555556,\"#d8576b\"],[0.6666666666666666,\"#ed7953\"],[0.7777777777777778,\"#fb9f3a\"],[0.8888888888888888,\"#fdca26\"],[1.0,\"#f0f921\"]],\"sequentialminus\":[[0.0,\"#0d0887\"],[0.1111111111111111,\"#46039f\"],[0.2222222222222222,\"#7201a8\"],[0.3333333333333333,\"#9c179e\"],[0.4444444444444444,\"#bd3786\"],[0.5555555555555556,\"#d8576b\"],[0.6666666666666666,\"#ed7953\"],[0.7777777777777778,\"#fb9f3a\"],[0.8888888888888888,\"#fdca26\"],[1.0,\"#f0f921\"]],\"diverging\":[[0,\"#8e0152\"],[0.1,\"#c51b7d\"],[0.2,\"#de77ae\"],[0.3,\"#f1b6da\"],[0.4,\"#fde0ef\"],[0.5,\"#f7f7f7\"],[0.6,\"#e6f5d0\"],[0.7,\"#b8e186\"],[0.8,\"#7fbc41\"],[0.9,\"#4d9221\"],[1,\"#276419\"]]},\"xaxis\":{\"gridcolor\":\"white\",\"linecolor\":\"white\",\"ticks\":\"\",\"title\":{\"standoff\":15},\"zerolinecolor\":\"white\",\"automargin\":true,\"zerolinewidth\":2},\"yaxis\":{\"gridcolor\":\"white\",\"linecolor\":\"white\",\"ticks\":\"\",\"title\":{\"standoff\":15},\"zerolinecolor\":\"white\",\"automargin\":true,\"zerolinewidth\":2},\"scene\":{\"xaxis\":{\"backgroundcolor\":\"#E5ECF6\",\"gridcolor\":\"white\",\"linecolor\":\"white\",\"showbackground\":true,\"ticks\":\"\",\"zerolinecolor\":\"white\",\"gridwidth\":2},\"yaxis\":{\"backgroundcolor\":\"#E5ECF6\",\"gridcolor\":\"white\",\"linecolor\":\"white\",\"showbackground\":true,\"ticks\":\"\",\"zerolinecolor\":\"white\",\"gridwidth\":2},\"zaxis\":{\"backgroundcolor\":\"#E5ECF6\",\"gridcolor\":\"white\",\"linecolor\":\"white\",\"showbackground\":true,\"ticks\":\"\",\"zerolinecolor\":\"white\",\"gridwidth\":2}},\"shapedefaults\":{\"line\":{\"color\":\"#2a3f5f\"}},\"annotationdefaults\":{\"arrowcolor\":\"#2a3f5f\",\"arrowhead\":0,\"arrowwidth\":1},\"geo\":{\"bgcolor\":\"white\",\"landcolor\":\"#E5ECF6\",\"subunitcolor\":\"white\",\"showland\":true,\"showlakes\":true,\"lakecolor\":\"white\"},\"title\":{\"x\":0.05},\"mapbox\":{\"style\":\"light\"}}},\"legend\":{\"tracegroupgap\":0},\"title\":{\"text\":\"Desconto por categoria e marca\"}},                        {\"responsive\": true}                    ).then(function(){\n",
              "                            \n",
              "var gd = document.getElementById('4f550471-5cff-4470-921f-f3fb6ad9dd27');\n",
              "var x = new MutationObserver(function (mutations, observer) {{\n",
              "        var display = window.getComputedStyle(gd).display;\n",
              "        if (!display || display === 'none') {{\n",
              "            console.log([gd, 'removed!']);\n",
              "            Plotly.purge(gd);\n",
              "            observer.disconnect();\n",
              "        }}\n",
              "}});\n",
              "\n",
              "// Listen for the removal of the full notebook cells\n",
              "var notebookContainer = gd.closest('#notebook-container');\n",
              "if (notebookContainer) {{\n",
              "    x.observe(notebookContainer, {childList: true});\n",
              "}}\n",
              "\n",
              "// Listen for the clearing of the current output cell\n",
              "var outputEl = gd.closest('.output');\n",
              "if (outputEl) {{\n",
              "    x.observe(outputEl, {childList: true});\n",
              "}}\n",
              "\n",
              "                        })                };                            </script>        </div>\n",
              "</body>\n",
              "</html>"
            ]
          },
          "metadata": {}
        }
      ]
    }
  ]
}